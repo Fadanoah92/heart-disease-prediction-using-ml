{
 "cells": [
  {
   "cell_type": "markdown",
   "id": "119d69c5",
   "metadata": {},
   "source": [
    "<h1 align=\"center\" ><div> Heart Disease Prediction</i></div></h1>\n",
    "<h1 align=\"center\" ><div> "
   ]
  },
  {
   "cell_type": "markdown",
   "id": "4b6ebada-0d0e-4083-ae98-fea14e560e24",
   "metadata": {},
   "source": [
    "_Importing the necessary libraries_"
   ]
  },
  {
   "cell_type": "code",
   "execution_count": 7,
   "id": "77f64386",
   "metadata": {},
   "outputs": [],
   "source": [
    "%matplotlib inline\n",
    "from matplotlib import pyplot as plt\n",
    "import numpy as np\n",
    "\n",
    "import pandas as pd"
   ]
  },
  {
   "cell_type": "markdown",
   "id": "dce49a05",
   "metadata": {},
   "source": [
    "_First let's make sure the data is available._"
   ]
  },
  {
   "cell_type": "code",
   "execution_count": 9,
   "id": "ec17089e",
   "metadata": {
    "scrolled": true
   },
   "outputs": [
    {
     "name": "stdout",
     "output_type": "stream",
     "text": [
      " HeartDisease.csv  'Muslihat GaffariTest.csv'  'Muslihat GaffariTrain.csv'\n"
     ]
    }
   ],
   "source": [
    "ls *.csv"
   ]
  },
  {
   "cell_type": "markdown",
   "id": "58f52d4e",
   "metadata": {},
   "source": [
    "The __HeartDisease__ data has a number of Features ( = clinical measurements) that we hope can be used to predict whether or not a given subject has heart disease ( __target = 0 or 1__ ). \n",
    "\n",
    "The subjects consist of a control group ( __target = 0__ ) and an experimental group ( __target = 1__ ), and for all the subjects, the following features are observed. \n",
    "\n",
    "    Age     = age in years \n",
    "    Sex     = male (= 1) or female ( = 0 )\n",
    "    chstpn  = chest pain type \n",
    "    restbp  = resting blood pressure (in mm Hg on admission to the hospital)\n",
    "    chol    = serum cholestoral in mg/dl\n",
    "    fbs     = (fasting blood sugar > 120 mg/dl) (1 = true; 0 = false)\n",
    "    restecg = resting electrocardiographic results\n",
    "    maxhr   = maximum heart rate achieved\n",
    "    exang   = exercise induced angina (1 = yes; 0 = no)\n",
    "    oldpeak = ST depression induced by exercise relative to rest\n",
    "    slope   = the slope of the peak exercise ST segment\n",
    "    target  =  diagnosis of heart disease (angiographic disease status)\n",
    "              -- Value 0: < 50% diameter narrowing\n",
    "              -- Value 1: > 50% diameter narrowing \n",
    "\n",
    "Below we load the data. "
   ]
  },
  {
   "cell_type": "code",
   "execution_count": 11,
   "id": "da1cc18e",
   "metadata": {},
   "outputs": [],
   "source": [
    "HeartDiseaseDf = pd.read_csv('HeartDisease.csv')\n"
   ]
  },
  {
   "cell_type": "markdown",
   "id": "ed7d8b58-be06-446a-8991-73496f9b7331",
   "metadata": {},
   "source": [
    "## Data Exploratory"
   ]
  },
  {
   "cell_type": "code",
   "execution_count": 13,
   "id": "5ebfd03e-76cc-4a78-870b-3ef6f770e826",
   "metadata": {},
   "outputs": [
    {
     "data": {
      "text/html": [
       "<div>\n",
       "<style scoped>\n",
       "    .dataframe tbody tr th:only-of-type {\n",
       "        vertical-align: middle;\n",
       "    }\n",
       "\n",
       "    .dataframe tbody tr th {\n",
       "        vertical-align: top;\n",
       "    }\n",
       "\n",
       "    .dataframe thead th {\n",
       "        text-align: right;\n",
       "    }\n",
       "</style>\n",
       "<table border=\"1\" class=\"dataframe\">\n",
       "  <thead>\n",
       "    <tr style=\"text-align: right;\">\n",
       "      <th></th>\n",
       "      <th>Height</th>\n",
       "      <th>Weight</th>\n",
       "      <th>Sex</th>\n",
       "      <th>Age</th>\n",
       "      <th>Income</th>\n",
       "      <th>chstpn</th>\n",
       "      <th>restbp</th>\n",
       "      <th>chol</th>\n",
       "      <th>fbs</th>\n",
       "      <th>restecg</th>\n",
       "      <th>maxhr</th>\n",
       "      <th>exang</th>\n",
       "      <th>oldpeak</th>\n",
       "      <th>slope</th>\n",
       "      <th>target</th>\n",
       "    </tr>\n",
       "  </thead>\n",
       "  <tbody>\n",
       "    <tr>\n",
       "      <th>0</th>\n",
       "      <td>6.2</td>\n",
       "      <td>204</td>\n",
       "      <td>M</td>\n",
       "      <td>40</td>\n",
       "      <td>37410</td>\n",
       "      <td>ATA</td>\n",
       "      <td>140</td>\n",
       "      <td>289</td>\n",
       "      <td>0</td>\n",
       "      <td>Normal</td>\n",
       "      <td>172</td>\n",
       "      <td>N</td>\n",
       "      <td>0.0</td>\n",
       "      <td>Up</td>\n",
       "      <td>0</td>\n",
       "    </tr>\n",
       "    <tr>\n",
       "      <th>1</th>\n",
       "      <td>6.1</td>\n",
       "      <td>197</td>\n",
       "      <td>F</td>\n",
       "      <td>49</td>\n",
       "      <td>37580</td>\n",
       "      <td>NAP</td>\n",
       "      <td>160</td>\n",
       "      <td>180</td>\n",
       "      <td>0</td>\n",
       "      <td>Normal</td>\n",
       "      <td>156</td>\n",
       "      <td>N</td>\n",
       "      <td>1.0</td>\n",
       "      <td>Flat</td>\n",
       "      <td>1</td>\n",
       "    </tr>\n",
       "    <tr>\n",
       "      <th>2</th>\n",
       "      <td>6.3</td>\n",
       "      <td>203</td>\n",
       "      <td>M</td>\n",
       "      <td>37</td>\n",
       "      <td>47760</td>\n",
       "      <td>ATA</td>\n",
       "      <td>130</td>\n",
       "      <td>283</td>\n",
       "      <td>0</td>\n",
       "      <td>ST</td>\n",
       "      <td>98</td>\n",
       "      <td>N</td>\n",
       "      <td>0.0</td>\n",
       "      <td>Up</td>\n",
       "      <td>0</td>\n",
       "    </tr>\n",
       "    <tr>\n",
       "      <th>3</th>\n",
       "      <td>5.8</td>\n",
       "      <td>182</td>\n",
       "      <td>F</td>\n",
       "      <td>48</td>\n",
       "      <td>82330</td>\n",
       "      <td>ASY</td>\n",
       "      <td>138</td>\n",
       "      <td>214</td>\n",
       "      <td>0</td>\n",
       "      <td>Normal</td>\n",
       "      <td>108</td>\n",
       "      <td>Y</td>\n",
       "      <td>1.5</td>\n",
       "      <td>Flat</td>\n",
       "      <td>1</td>\n",
       "    </tr>\n",
       "    <tr>\n",
       "      <th>4</th>\n",
       "      <td>6.1</td>\n",
       "      <td>174</td>\n",
       "      <td>M</td>\n",
       "      <td>54</td>\n",
       "      <td>108380</td>\n",
       "      <td>NAP</td>\n",
       "      <td>150</td>\n",
       "      <td>195</td>\n",
       "      <td>0</td>\n",
       "      <td>Normal</td>\n",
       "      <td>122</td>\n",
       "      <td>N</td>\n",
       "      <td>0.0</td>\n",
       "      <td>Up</td>\n",
       "      <td>0</td>\n",
       "    </tr>\n",
       "  </tbody>\n",
       "</table>\n",
       "</div>"
      ],
      "text/plain": [
       "   Height  Weight Sex  Age  Income chstpn  restbp  chol  fbs restecg  maxhr  \\\n",
       "0     6.2     204   M   40   37410    ATA     140   289    0  Normal    172   \n",
       "1     6.1     197   F   49   37580    NAP     160   180    0  Normal    156   \n",
       "2     6.3     203   M   37   47760    ATA     130   283    0      ST     98   \n",
       "3     5.8     182   F   48   82330    ASY     138   214    0  Normal    108   \n",
       "4     6.1     174   M   54  108380    NAP     150   195    0  Normal    122   \n",
       "\n",
       "  exang  oldpeak slope  target  \n",
       "0     N      0.0    Up       0  \n",
       "1     N      1.0  Flat       1  \n",
       "2     N      0.0    Up       0  \n",
       "3     Y      1.5  Flat       1  \n",
       "4     N      0.0    Up       0  "
      ]
     },
     "execution_count": 13,
     "metadata": {},
     "output_type": "execute_result"
    }
   ],
   "source": [
    "HeartDiseaseDf.head()"
   ]
  },
  {
   "cell_type": "code",
   "execution_count": 14,
   "id": "5ea06499",
   "metadata": {},
   "outputs": [
    {
     "data": {
      "text/html": [
       "<div>\n",
       "<style scoped>\n",
       "    .dataframe tbody tr th:only-of-type {\n",
       "        vertical-align: middle;\n",
       "    }\n",
       "\n",
       "    .dataframe tbody tr th {\n",
       "        vertical-align: top;\n",
       "    }\n",
       "\n",
       "    .dataframe thead th {\n",
       "        text-align: right;\n",
       "    }\n",
       "</style>\n",
       "<table border=\"1\" class=\"dataframe\">\n",
       "  <thead>\n",
       "    <tr style=\"text-align: right;\">\n",
       "      <th></th>\n",
       "      <th>Height</th>\n",
       "      <th>Weight</th>\n",
       "      <th>Sex</th>\n",
       "      <th>Age</th>\n",
       "      <th>Income</th>\n",
       "      <th>chstpn</th>\n",
       "      <th>restbp</th>\n",
       "      <th>chol</th>\n",
       "      <th>fbs</th>\n",
       "      <th>restecg</th>\n",
       "      <th>maxhr</th>\n",
       "      <th>exang</th>\n",
       "      <th>oldpeak</th>\n",
       "      <th>slope</th>\n",
       "      <th>target</th>\n",
       "    </tr>\n",
       "  </thead>\n",
       "  <tbody>\n",
       "    <tr>\n",
       "      <th>913</th>\n",
       "      <td>5.8</td>\n",
       "      <td>208</td>\n",
       "      <td>M</td>\n",
       "      <td>45</td>\n",
       "      <td>72210</td>\n",
       "      <td>TA</td>\n",
       "      <td>110</td>\n",
       "      <td>264</td>\n",
       "      <td>0</td>\n",
       "      <td>Normal</td>\n",
       "      <td>132</td>\n",
       "      <td>N</td>\n",
       "      <td>1.2</td>\n",
       "      <td>Flat</td>\n",
       "      <td>1</td>\n",
       "    </tr>\n",
       "    <tr>\n",
       "      <th>914</th>\n",
       "      <td>5.9</td>\n",
       "      <td>216</td>\n",
       "      <td>M</td>\n",
       "      <td>68</td>\n",
       "      <td>39050</td>\n",
       "      <td>ASY</td>\n",
       "      <td>144</td>\n",
       "      <td>193</td>\n",
       "      <td>1</td>\n",
       "      <td>Normal</td>\n",
       "      <td>141</td>\n",
       "      <td>N</td>\n",
       "      <td>3.4</td>\n",
       "      <td>Flat</td>\n",
       "      <td>1</td>\n",
       "    </tr>\n",
       "    <tr>\n",
       "      <th>915</th>\n",
       "      <td>5.9</td>\n",
       "      <td>209</td>\n",
       "      <td>M</td>\n",
       "      <td>57</td>\n",
       "      <td>71630</td>\n",
       "      <td>ASY</td>\n",
       "      <td>130</td>\n",
       "      <td>131</td>\n",
       "      <td>0</td>\n",
       "      <td>Normal</td>\n",
       "      <td>115</td>\n",
       "      <td>Y</td>\n",
       "      <td>1.2</td>\n",
       "      <td>Flat</td>\n",
       "      <td>1</td>\n",
       "    </tr>\n",
       "    <tr>\n",
       "      <th>916</th>\n",
       "      <td>5.9</td>\n",
       "      <td>190</td>\n",
       "      <td>F</td>\n",
       "      <td>57</td>\n",
       "      <td>33940</td>\n",
       "      <td>ATA</td>\n",
       "      <td>130</td>\n",
       "      <td>236</td>\n",
       "      <td>0</td>\n",
       "      <td>LVH</td>\n",
       "      <td>174</td>\n",
       "      <td>N</td>\n",
       "      <td>0.0</td>\n",
       "      <td>Flat</td>\n",
       "      <td>1</td>\n",
       "    </tr>\n",
       "    <tr>\n",
       "      <th>917</th>\n",
       "      <td>5.9</td>\n",
       "      <td>172</td>\n",
       "      <td>M</td>\n",
       "      <td>38</td>\n",
       "      <td>79750</td>\n",
       "      <td>NAP</td>\n",
       "      <td>138</td>\n",
       "      <td>175</td>\n",
       "      <td>0</td>\n",
       "      <td>Normal</td>\n",
       "      <td>173</td>\n",
       "      <td>N</td>\n",
       "      <td>0.0</td>\n",
       "      <td>Up</td>\n",
       "      <td>0</td>\n",
       "    </tr>\n",
       "  </tbody>\n",
       "</table>\n",
       "</div>"
      ],
      "text/plain": [
       "     Height  Weight Sex  Age  Income chstpn  restbp  chol  fbs restecg  maxhr  \\\n",
       "913     5.8     208   M   45   72210     TA     110   264    0  Normal    132   \n",
       "914     5.9     216   M   68   39050    ASY     144   193    1  Normal    141   \n",
       "915     5.9     209   M   57   71630    ASY     130   131    0  Normal    115   \n",
       "916     5.9     190   F   57   33940    ATA     130   236    0     LVH    174   \n",
       "917     5.9     172   M   38   79750    NAP     138   175    0  Normal    173   \n",
       "\n",
       "    exang  oldpeak slope  target  \n",
       "913     N      1.2  Flat       1  \n",
       "914     N      3.4  Flat       1  \n",
       "915     Y      1.2  Flat       1  \n",
       "916     N      0.0  Flat       1  \n",
       "917     N      0.0    Up       0  "
      ]
     },
     "execution_count": 14,
     "metadata": {},
     "output_type": "execute_result"
    }
   ],
   "source": [
    "\n",
    "HeartDiseaseDf.tail()"
   ]
  },
  {
   "cell_type": "markdown",
   "id": "7d260826",
   "metadata": {},
   "source": [
    "_Next, we check for the shape of our data to know the overall structure of the dataset. We see that our dataset has 918 rows and 15 columns._"
   ]
  },
  {
   "cell_type": "code",
   "execution_count": 16,
   "id": "34265025",
   "metadata": {},
   "outputs": [
    {
     "data": {
      "text/plain": [
       "(918, 15)"
      ]
     },
     "execution_count": 16,
     "metadata": {},
     "output_type": "execute_result"
    }
   ],
   "source": [
    "HeartDiseaseDf.shape"
   ]
  },
  {
   "cell_type": "markdown",
   "id": "8a8827b7",
   "metadata": {},
   "source": [
    "_Before we perform descriptive statistics, we check for missing values. we see from the result below that our Data set has no missing values._"
   ]
  },
  {
   "cell_type": "code",
   "execution_count": 18,
   "id": "2d23b03d",
   "metadata": {},
   "outputs": [
    {
     "data": {
      "text/html": [
       "<div>\n",
       "<style scoped>\n",
       "    .dataframe tbody tr th:only-of-type {\n",
       "        vertical-align: middle;\n",
       "    }\n",
       "\n",
       "    .dataframe tbody tr th {\n",
       "        vertical-align: top;\n",
       "    }\n",
       "\n",
       "    .dataframe thead th {\n",
       "        text-align: right;\n",
       "    }\n",
       "</style>\n",
       "<table border=\"1\" class=\"dataframe\">\n",
       "  <thead>\n",
       "    <tr style=\"text-align: right;\">\n",
       "      <th></th>\n",
       "      <th>Height</th>\n",
       "      <th>Weight</th>\n",
       "      <th>Sex</th>\n",
       "      <th>Age</th>\n",
       "      <th>Income</th>\n",
       "      <th>chstpn</th>\n",
       "      <th>restbp</th>\n",
       "      <th>chol</th>\n",
       "      <th>fbs</th>\n",
       "      <th>restecg</th>\n",
       "      <th>maxhr</th>\n",
       "      <th>exang</th>\n",
       "      <th>oldpeak</th>\n",
       "      <th>slope</th>\n",
       "      <th>target</th>\n",
       "    </tr>\n",
       "  </thead>\n",
       "  <tbody>\n",
       "    <tr>\n",
       "      <th>0</th>\n",
       "      <td>False</td>\n",
       "      <td>False</td>\n",
       "      <td>False</td>\n",
       "      <td>False</td>\n",
       "      <td>False</td>\n",
       "      <td>False</td>\n",
       "      <td>False</td>\n",
       "      <td>False</td>\n",
       "      <td>False</td>\n",
       "      <td>False</td>\n",
       "      <td>False</td>\n",
       "      <td>False</td>\n",
       "      <td>False</td>\n",
       "      <td>False</td>\n",
       "      <td>False</td>\n",
       "    </tr>\n",
       "    <tr>\n",
       "      <th>1</th>\n",
       "      <td>False</td>\n",
       "      <td>False</td>\n",
       "      <td>False</td>\n",
       "      <td>False</td>\n",
       "      <td>False</td>\n",
       "      <td>False</td>\n",
       "      <td>False</td>\n",
       "      <td>False</td>\n",
       "      <td>False</td>\n",
       "      <td>False</td>\n",
       "      <td>False</td>\n",
       "      <td>False</td>\n",
       "      <td>False</td>\n",
       "      <td>False</td>\n",
       "      <td>False</td>\n",
       "    </tr>\n",
       "    <tr>\n",
       "      <th>2</th>\n",
       "      <td>False</td>\n",
       "      <td>False</td>\n",
       "      <td>False</td>\n",
       "      <td>False</td>\n",
       "      <td>False</td>\n",
       "      <td>False</td>\n",
       "      <td>False</td>\n",
       "      <td>False</td>\n",
       "      <td>False</td>\n",
       "      <td>False</td>\n",
       "      <td>False</td>\n",
       "      <td>False</td>\n",
       "      <td>False</td>\n",
       "      <td>False</td>\n",
       "      <td>False</td>\n",
       "    </tr>\n",
       "    <tr>\n",
       "      <th>3</th>\n",
       "      <td>False</td>\n",
       "      <td>False</td>\n",
       "      <td>False</td>\n",
       "      <td>False</td>\n",
       "      <td>False</td>\n",
       "      <td>False</td>\n",
       "      <td>False</td>\n",
       "      <td>False</td>\n",
       "      <td>False</td>\n",
       "      <td>False</td>\n",
       "      <td>False</td>\n",
       "      <td>False</td>\n",
       "      <td>False</td>\n",
       "      <td>False</td>\n",
       "      <td>False</td>\n",
       "    </tr>\n",
       "    <tr>\n",
       "      <th>4</th>\n",
       "      <td>False</td>\n",
       "      <td>False</td>\n",
       "      <td>False</td>\n",
       "      <td>False</td>\n",
       "      <td>False</td>\n",
       "      <td>False</td>\n",
       "      <td>False</td>\n",
       "      <td>False</td>\n",
       "      <td>False</td>\n",
       "      <td>False</td>\n",
       "      <td>False</td>\n",
       "      <td>False</td>\n",
       "      <td>False</td>\n",
       "      <td>False</td>\n",
       "      <td>False</td>\n",
       "    </tr>\n",
       "    <tr>\n",
       "      <th>...</th>\n",
       "      <td>...</td>\n",
       "      <td>...</td>\n",
       "      <td>...</td>\n",
       "      <td>...</td>\n",
       "      <td>...</td>\n",
       "      <td>...</td>\n",
       "      <td>...</td>\n",
       "      <td>...</td>\n",
       "      <td>...</td>\n",
       "      <td>...</td>\n",
       "      <td>...</td>\n",
       "      <td>...</td>\n",
       "      <td>...</td>\n",
       "      <td>...</td>\n",
       "      <td>...</td>\n",
       "    </tr>\n",
       "    <tr>\n",
       "      <th>913</th>\n",
       "      <td>False</td>\n",
       "      <td>False</td>\n",
       "      <td>False</td>\n",
       "      <td>False</td>\n",
       "      <td>False</td>\n",
       "      <td>False</td>\n",
       "      <td>False</td>\n",
       "      <td>False</td>\n",
       "      <td>False</td>\n",
       "      <td>False</td>\n",
       "      <td>False</td>\n",
       "      <td>False</td>\n",
       "      <td>False</td>\n",
       "      <td>False</td>\n",
       "      <td>False</td>\n",
       "    </tr>\n",
       "    <tr>\n",
       "      <th>914</th>\n",
       "      <td>False</td>\n",
       "      <td>False</td>\n",
       "      <td>False</td>\n",
       "      <td>False</td>\n",
       "      <td>False</td>\n",
       "      <td>False</td>\n",
       "      <td>False</td>\n",
       "      <td>False</td>\n",
       "      <td>False</td>\n",
       "      <td>False</td>\n",
       "      <td>False</td>\n",
       "      <td>False</td>\n",
       "      <td>False</td>\n",
       "      <td>False</td>\n",
       "      <td>False</td>\n",
       "    </tr>\n",
       "    <tr>\n",
       "      <th>915</th>\n",
       "      <td>False</td>\n",
       "      <td>False</td>\n",
       "      <td>False</td>\n",
       "      <td>False</td>\n",
       "      <td>False</td>\n",
       "      <td>False</td>\n",
       "      <td>False</td>\n",
       "      <td>False</td>\n",
       "      <td>False</td>\n",
       "      <td>False</td>\n",
       "      <td>False</td>\n",
       "      <td>False</td>\n",
       "      <td>False</td>\n",
       "      <td>False</td>\n",
       "      <td>False</td>\n",
       "    </tr>\n",
       "    <tr>\n",
       "      <th>916</th>\n",
       "      <td>False</td>\n",
       "      <td>False</td>\n",
       "      <td>False</td>\n",
       "      <td>False</td>\n",
       "      <td>False</td>\n",
       "      <td>False</td>\n",
       "      <td>False</td>\n",
       "      <td>False</td>\n",
       "      <td>False</td>\n",
       "      <td>False</td>\n",
       "      <td>False</td>\n",
       "      <td>False</td>\n",
       "      <td>False</td>\n",
       "      <td>False</td>\n",
       "      <td>False</td>\n",
       "    </tr>\n",
       "    <tr>\n",
       "      <th>917</th>\n",
       "      <td>False</td>\n",
       "      <td>False</td>\n",
       "      <td>False</td>\n",
       "      <td>False</td>\n",
       "      <td>False</td>\n",
       "      <td>False</td>\n",
       "      <td>False</td>\n",
       "      <td>False</td>\n",
       "      <td>False</td>\n",
       "      <td>False</td>\n",
       "      <td>False</td>\n",
       "      <td>False</td>\n",
       "      <td>False</td>\n",
       "      <td>False</td>\n",
       "      <td>False</td>\n",
       "    </tr>\n",
       "  </tbody>\n",
       "</table>\n",
       "<p>918 rows × 15 columns</p>\n",
       "</div>"
      ],
      "text/plain": [
       "     Height  Weight    Sex    Age  Income  chstpn  restbp   chol    fbs  \\\n",
       "0     False   False  False  False   False   False   False  False  False   \n",
       "1     False   False  False  False   False   False   False  False  False   \n",
       "2     False   False  False  False   False   False   False  False  False   \n",
       "3     False   False  False  False   False   False   False  False  False   \n",
       "4     False   False  False  False   False   False   False  False  False   \n",
       "..      ...     ...    ...    ...     ...     ...     ...    ...    ...   \n",
       "913   False   False  False  False   False   False   False  False  False   \n",
       "914   False   False  False  False   False   False   False  False  False   \n",
       "915   False   False  False  False   False   False   False  False  False   \n",
       "916   False   False  False  False   False   False   False  False  False   \n",
       "917   False   False  False  False   False   False   False  False  False   \n",
       "\n",
       "     restecg  maxhr  exang  oldpeak  slope  target  \n",
       "0      False  False  False    False  False   False  \n",
       "1      False  False  False    False  False   False  \n",
       "2      False  False  False    False  False   False  \n",
       "3      False  False  False    False  False   False  \n",
       "4      False  False  False    False  False   False  \n",
       "..       ...    ...    ...      ...    ...     ...  \n",
       "913    False  False  False    False  False   False  \n",
       "914    False  False  False    False  False   False  \n",
       "915    False  False  False    False  False   False  \n",
       "916    False  False  False    False  False   False  \n",
       "917    False  False  False    False  False   False  \n",
       "\n",
       "[918 rows x 15 columns]"
      ]
     },
     "execution_count": 18,
     "metadata": {},
     "output_type": "execute_result"
    }
   ],
   "source": [
    "HeartDiseaseDf.isnull()"
   ]
  },
  {
   "cell_type": "code",
   "execution_count": 20,
   "id": "a43bc005-a68d-4af3-93e4-e8030346beac",
   "metadata": {},
   "outputs": [
    {
     "data": {
      "text/plain": [
       "Height     0\n",
       "Weight     0\n",
       "Sex        0\n",
       "Age        0\n",
       "Income     0\n",
       "chstpn     0\n",
       "restbp     0\n",
       "chol       0\n",
       "fbs        0\n",
       "restecg    0\n",
       "maxhr      0\n",
       "exang      0\n",
       "oldpeak    0\n",
       "slope      0\n",
       "target     0\n",
       "dtype: int64"
      ]
     },
     "execution_count": 20,
     "metadata": {},
     "output_type": "execute_result"
    }
   ],
   "source": [
    "HeartDiseaseDf.isnull().sum()"
   ]
  },
  {
   "cell_type": "markdown",
   "id": "14e163f6",
   "metadata": {},
   "source": [
    "_Next, we explore our Data further by performing Descriptive Statistics. In the table below we have the five number summary which gives us insight about the distribution of our data._"
   ]
  },
  {
   "cell_type": "code",
   "execution_count": 24,
   "id": "419621c6",
   "metadata": {},
   "outputs": [
    {
     "data": {
      "text/html": [
       "<div>\n",
       "<style scoped>\n",
       "    .dataframe tbody tr th:only-of-type {\n",
       "        vertical-align: middle;\n",
       "    }\n",
       "\n",
       "    .dataframe tbody tr th {\n",
       "        vertical-align: top;\n",
       "    }\n",
       "\n",
       "    .dataframe thead th {\n",
       "        text-align: right;\n",
       "    }\n",
       "</style>\n",
       "<table border=\"1\" class=\"dataframe\">\n",
       "  <thead>\n",
       "    <tr style=\"text-align: right;\">\n",
       "      <th></th>\n",
       "      <th>Height</th>\n",
       "      <th>Weight</th>\n",
       "      <th>Age</th>\n",
       "      <th>Income</th>\n",
       "      <th>restbp</th>\n",
       "      <th>chol</th>\n",
       "      <th>fbs</th>\n",
       "      <th>maxhr</th>\n",
       "      <th>oldpeak</th>\n",
       "      <th>target</th>\n",
       "    </tr>\n",
       "  </thead>\n",
       "  <tbody>\n",
       "    <tr>\n",
       "      <th>count</th>\n",
       "      <td>918.000000</td>\n",
       "      <td>918.000000</td>\n",
       "      <td>918.000000</td>\n",
       "      <td>918.000000</td>\n",
       "      <td>918.000000</td>\n",
       "      <td>918.000000</td>\n",
       "      <td>918.000000</td>\n",
       "      <td>918.000000</td>\n",
       "      <td>918.000000</td>\n",
       "      <td>918.000000</td>\n",
       "    </tr>\n",
       "    <tr>\n",
       "      <th>mean</th>\n",
       "      <td>5.949237</td>\n",
       "      <td>186.114379</td>\n",
       "      <td>53.510893</td>\n",
       "      <td>68203.431373</td>\n",
       "      <td>132.396514</td>\n",
       "      <td>198.799564</td>\n",
       "      <td>0.233115</td>\n",
       "      <td>136.809368</td>\n",
       "      <td>0.887364</td>\n",
       "      <td>0.553377</td>\n",
       "    </tr>\n",
       "    <tr>\n",
       "      <th>std</th>\n",
       "      <td>0.314038</td>\n",
       "      <td>23.065290</td>\n",
       "      <td>9.432617</td>\n",
       "      <td>28107.888260</td>\n",
       "      <td>18.514154</td>\n",
       "      <td>109.384145</td>\n",
       "      <td>0.423046</td>\n",
       "      <td>25.460334</td>\n",
       "      <td>1.066570</td>\n",
       "      <td>0.497414</td>\n",
       "    </tr>\n",
       "    <tr>\n",
       "      <th>min</th>\n",
       "      <td>5.000000</td>\n",
       "      <td>111.000000</td>\n",
       "      <td>28.000000</td>\n",
       "      <td>20030.000000</td>\n",
       "      <td>0.000000</td>\n",
       "      <td>0.000000</td>\n",
       "      <td>0.000000</td>\n",
       "      <td>60.000000</td>\n",
       "      <td>-2.600000</td>\n",
       "      <td>0.000000</td>\n",
       "    </tr>\n",
       "    <tr>\n",
       "      <th>25%</th>\n",
       "      <td>5.800000</td>\n",
       "      <td>172.000000</td>\n",
       "      <td>47.000000</td>\n",
       "      <td>43050.000000</td>\n",
       "      <td>120.000000</td>\n",
       "      <td>173.250000</td>\n",
       "      <td>0.000000</td>\n",
       "      <td>120.000000</td>\n",
       "      <td>0.000000</td>\n",
       "      <td>0.000000</td>\n",
       "    </tr>\n",
       "    <tr>\n",
       "      <th>50%</th>\n",
       "      <td>5.900000</td>\n",
       "      <td>189.000000</td>\n",
       "      <td>54.000000</td>\n",
       "      <td>68800.000000</td>\n",
       "      <td>130.000000</td>\n",
       "      <td>223.000000</td>\n",
       "      <td>0.000000</td>\n",
       "      <td>138.000000</td>\n",
       "      <td>0.600000</td>\n",
       "      <td>1.000000</td>\n",
       "    </tr>\n",
       "    <tr>\n",
       "      <th>75%</th>\n",
       "      <td>6.200000</td>\n",
       "      <td>203.000000</td>\n",
       "      <td>60.000000</td>\n",
       "      <td>93187.500000</td>\n",
       "      <td>140.000000</td>\n",
       "      <td>267.000000</td>\n",
       "      <td>0.000000</td>\n",
       "      <td>156.000000</td>\n",
       "      <td>1.500000</td>\n",
       "      <td>1.000000</td>\n",
       "    </tr>\n",
       "    <tr>\n",
       "      <th>max</th>\n",
       "      <td>7.000000</td>\n",
       "      <td>238.000000</td>\n",
       "      <td>77.000000</td>\n",
       "      <td>119840.000000</td>\n",
       "      <td>200.000000</td>\n",
       "      <td>603.000000</td>\n",
       "      <td>1.000000</td>\n",
       "      <td>202.000000</td>\n",
       "      <td>6.200000</td>\n",
       "      <td>1.000000</td>\n",
       "    </tr>\n",
       "  </tbody>\n",
       "</table>\n",
       "</div>"
      ],
      "text/plain": [
       "           Height      Weight         Age         Income      restbp  \\\n",
       "count  918.000000  918.000000  918.000000     918.000000  918.000000   \n",
       "mean     5.949237  186.114379   53.510893   68203.431373  132.396514   \n",
       "std      0.314038   23.065290    9.432617   28107.888260   18.514154   \n",
       "min      5.000000  111.000000   28.000000   20030.000000    0.000000   \n",
       "25%      5.800000  172.000000   47.000000   43050.000000  120.000000   \n",
       "50%      5.900000  189.000000   54.000000   68800.000000  130.000000   \n",
       "75%      6.200000  203.000000   60.000000   93187.500000  140.000000   \n",
       "max      7.000000  238.000000   77.000000  119840.000000  200.000000   \n",
       "\n",
       "             chol         fbs       maxhr     oldpeak      target  \n",
       "count  918.000000  918.000000  918.000000  918.000000  918.000000  \n",
       "mean   198.799564    0.233115  136.809368    0.887364    0.553377  \n",
       "std    109.384145    0.423046   25.460334    1.066570    0.497414  \n",
       "min      0.000000    0.000000   60.000000   -2.600000    0.000000  \n",
       "25%    173.250000    0.000000  120.000000    0.000000    0.000000  \n",
       "50%    223.000000    0.000000  138.000000    0.600000    1.000000  \n",
       "75%    267.000000    0.000000  156.000000    1.500000    1.000000  \n",
       "max    603.000000    1.000000  202.000000    6.200000    1.000000  "
      ]
     },
     "execution_count": 24,
     "metadata": {},
     "output_type": "execute_result"
    }
   ],
   "source": [
    "HeartDiseaseDf.describe()"
   ]
  },
  {
   "cell_type": "code",
   "execution_count": null,
   "id": "96b249c7",
   "metadata": {},
   "outputs": [],
   "source": []
  },
  {
   "cell_type": "markdown",
   "id": "b71b82b5",
   "metadata": {},
   "source": [
    "_Again we separate our dataset into two: Numerical and Non numerical feature for further analysis._"
   ]
  },
  {
   "cell_type": "code",
   "execution_count": 33,
   "id": "f302a3c4",
   "metadata": {},
   "outputs": [
    {
     "data": {
      "text/html": [
       "<div>\n",
       "<style scoped>\n",
       "    .dataframe tbody tr th:only-of-type {\n",
       "        vertical-align: middle;\n",
       "    }\n",
       "\n",
       "    .dataframe tbody tr th {\n",
       "        vertical-align: top;\n",
       "    }\n",
       "\n",
       "    .dataframe thead th {\n",
       "        text-align: right;\n",
       "    }\n",
       "</style>\n",
       "<table border=\"1\" class=\"dataframe\">\n",
       "  <thead>\n",
       "    <tr style=\"text-align: right;\">\n",
       "      <th></th>\n",
       "      <th>Height</th>\n",
       "      <th>Weight</th>\n",
       "      <th>Age</th>\n",
       "      <th>Income</th>\n",
       "      <th>restbp</th>\n",
       "      <th>chol</th>\n",
       "      <th>fbs</th>\n",
       "      <th>maxhr</th>\n",
       "      <th>oldpeak</th>\n",
       "      <th>target</th>\n",
       "    </tr>\n",
       "  </thead>\n",
       "  <tbody>\n",
       "    <tr>\n",
       "      <th>0</th>\n",
       "      <td>6.2</td>\n",
       "      <td>204</td>\n",
       "      <td>40</td>\n",
       "      <td>37410</td>\n",
       "      <td>140</td>\n",
       "      <td>289</td>\n",
       "      <td>0</td>\n",
       "      <td>172</td>\n",
       "      <td>0.0</td>\n",
       "      <td>0</td>\n",
       "    </tr>\n",
       "    <tr>\n",
       "      <th>1</th>\n",
       "      <td>6.1</td>\n",
       "      <td>197</td>\n",
       "      <td>49</td>\n",
       "      <td>37580</td>\n",
       "      <td>160</td>\n",
       "      <td>180</td>\n",
       "      <td>0</td>\n",
       "      <td>156</td>\n",
       "      <td>1.0</td>\n",
       "      <td>1</td>\n",
       "    </tr>\n",
       "    <tr>\n",
       "      <th>2</th>\n",
       "      <td>6.3</td>\n",
       "      <td>203</td>\n",
       "      <td>37</td>\n",
       "      <td>47760</td>\n",
       "      <td>130</td>\n",
       "      <td>283</td>\n",
       "      <td>0</td>\n",
       "      <td>98</td>\n",
       "      <td>0.0</td>\n",
       "      <td>0</td>\n",
       "    </tr>\n",
       "    <tr>\n",
       "      <th>3</th>\n",
       "      <td>5.8</td>\n",
       "      <td>182</td>\n",
       "      <td>48</td>\n",
       "      <td>82330</td>\n",
       "      <td>138</td>\n",
       "      <td>214</td>\n",
       "      <td>0</td>\n",
       "      <td>108</td>\n",
       "      <td>1.5</td>\n",
       "      <td>1</td>\n",
       "    </tr>\n",
       "    <tr>\n",
       "      <th>4</th>\n",
       "      <td>6.1</td>\n",
       "      <td>174</td>\n",
       "      <td>54</td>\n",
       "      <td>108380</td>\n",
       "      <td>150</td>\n",
       "      <td>195</td>\n",
       "      <td>0</td>\n",
       "      <td>122</td>\n",
       "      <td>0.0</td>\n",
       "      <td>0</td>\n",
       "    </tr>\n",
       "    <tr>\n",
       "      <th>...</th>\n",
       "      <td>...</td>\n",
       "      <td>...</td>\n",
       "      <td>...</td>\n",
       "      <td>...</td>\n",
       "      <td>...</td>\n",
       "      <td>...</td>\n",
       "      <td>...</td>\n",
       "      <td>...</td>\n",
       "      <td>...</td>\n",
       "      <td>...</td>\n",
       "    </tr>\n",
       "    <tr>\n",
       "      <th>913</th>\n",
       "      <td>5.8</td>\n",
       "      <td>208</td>\n",
       "      <td>45</td>\n",
       "      <td>72210</td>\n",
       "      <td>110</td>\n",
       "      <td>264</td>\n",
       "      <td>0</td>\n",
       "      <td>132</td>\n",
       "      <td>1.2</td>\n",
       "      <td>1</td>\n",
       "    </tr>\n",
       "    <tr>\n",
       "      <th>914</th>\n",
       "      <td>5.9</td>\n",
       "      <td>216</td>\n",
       "      <td>68</td>\n",
       "      <td>39050</td>\n",
       "      <td>144</td>\n",
       "      <td>193</td>\n",
       "      <td>1</td>\n",
       "      <td>141</td>\n",
       "      <td>3.4</td>\n",
       "      <td>1</td>\n",
       "    </tr>\n",
       "    <tr>\n",
       "      <th>915</th>\n",
       "      <td>5.9</td>\n",
       "      <td>209</td>\n",
       "      <td>57</td>\n",
       "      <td>71630</td>\n",
       "      <td>130</td>\n",
       "      <td>131</td>\n",
       "      <td>0</td>\n",
       "      <td>115</td>\n",
       "      <td>1.2</td>\n",
       "      <td>1</td>\n",
       "    </tr>\n",
       "    <tr>\n",
       "      <th>916</th>\n",
       "      <td>5.9</td>\n",
       "      <td>190</td>\n",
       "      <td>57</td>\n",
       "      <td>33940</td>\n",
       "      <td>130</td>\n",
       "      <td>236</td>\n",
       "      <td>0</td>\n",
       "      <td>174</td>\n",
       "      <td>0.0</td>\n",
       "      <td>1</td>\n",
       "    </tr>\n",
       "    <tr>\n",
       "      <th>917</th>\n",
       "      <td>5.9</td>\n",
       "      <td>172</td>\n",
       "      <td>38</td>\n",
       "      <td>79750</td>\n",
       "      <td>138</td>\n",
       "      <td>175</td>\n",
       "      <td>0</td>\n",
       "      <td>173</td>\n",
       "      <td>0.0</td>\n",
       "      <td>0</td>\n",
       "    </tr>\n",
       "  </tbody>\n",
       "</table>\n",
       "<p>918 rows × 10 columns</p>\n",
       "</div>"
      ],
      "text/plain": [
       "     Height  Weight  Age  Income  restbp  chol  fbs  maxhr  oldpeak  target\n",
       "0       6.2     204   40   37410     140   289    0    172      0.0       0\n",
       "1       6.1     197   49   37580     160   180    0    156      1.0       1\n",
       "2       6.3     203   37   47760     130   283    0     98      0.0       0\n",
       "3       5.8     182   48   82330     138   214    0    108      1.5       1\n",
       "4       6.1     174   54  108380     150   195    0    122      0.0       0\n",
       "..      ...     ...  ...     ...     ...   ...  ...    ...      ...     ...\n",
       "913     5.8     208   45   72210     110   264    0    132      1.2       1\n",
       "914     5.9     216   68   39050     144   193    1    141      3.4       1\n",
       "915     5.9     209   57   71630     130   131    0    115      1.2       1\n",
       "916     5.9     190   57   33940     130   236    0    174      0.0       1\n",
       "917     5.9     172   38   79750     138   175    0    173      0.0       0\n",
       "\n",
       "[918 rows x 10 columns]"
      ]
     },
     "execution_count": 33,
     "metadata": {},
     "output_type": "execute_result"
    }
   ],
   "source": [
    "# Numerical Features \n",
    "\n",
    "HeartDiseaseDf.select_dtypes([int,float])"
   ]
  },
  {
   "cell_type": "markdown",
   "id": "94f7ce0e",
   "metadata": {},
   "source": [
    "_Below is the data frame for the numeric features._"
   ]
  },
  {
   "cell_type": "code",
   "execution_count": 36,
   "id": "60334b2a",
   "metadata": {},
   "outputs": [
    {
     "data": {
      "text/html": [
       "<div>\n",
       "<style scoped>\n",
       "    .dataframe tbody tr th:only-of-type {\n",
       "        vertical-align: middle;\n",
       "    }\n",
       "\n",
       "    .dataframe tbody tr th {\n",
       "        vertical-align: top;\n",
       "    }\n",
       "\n",
       "    .dataframe thead th {\n",
       "        text-align: right;\n",
       "    }\n",
       "</style>\n",
       "<table border=\"1\" class=\"dataframe\">\n",
       "  <thead>\n",
       "    <tr style=\"text-align: right;\">\n",
       "      <th></th>\n",
       "      <th>Height</th>\n",
       "      <th>Weight</th>\n",
       "      <th>Age</th>\n",
       "      <th>Income</th>\n",
       "      <th>restbp</th>\n",
       "      <th>chol</th>\n",
       "      <th>fbs</th>\n",
       "      <th>maxhr</th>\n",
       "      <th>oldpeak</th>\n",
       "      <th>target</th>\n",
       "    </tr>\n",
       "  </thead>\n",
       "  <tbody>\n",
       "    <tr>\n",
       "      <th>0</th>\n",
       "      <td>6.2</td>\n",
       "      <td>204</td>\n",
       "      <td>40</td>\n",
       "      <td>37410</td>\n",
       "      <td>140</td>\n",
       "      <td>289</td>\n",
       "      <td>0</td>\n",
       "      <td>172</td>\n",
       "      <td>0.0</td>\n",
       "      <td>0</td>\n",
       "    </tr>\n",
       "    <tr>\n",
       "      <th>1</th>\n",
       "      <td>6.1</td>\n",
       "      <td>197</td>\n",
       "      <td>49</td>\n",
       "      <td>37580</td>\n",
       "      <td>160</td>\n",
       "      <td>180</td>\n",
       "      <td>0</td>\n",
       "      <td>156</td>\n",
       "      <td>1.0</td>\n",
       "      <td>1</td>\n",
       "    </tr>\n",
       "    <tr>\n",
       "      <th>2</th>\n",
       "      <td>6.3</td>\n",
       "      <td>203</td>\n",
       "      <td>37</td>\n",
       "      <td>47760</td>\n",
       "      <td>130</td>\n",
       "      <td>283</td>\n",
       "      <td>0</td>\n",
       "      <td>98</td>\n",
       "      <td>0.0</td>\n",
       "      <td>0</td>\n",
       "    </tr>\n",
       "    <tr>\n",
       "      <th>3</th>\n",
       "      <td>5.8</td>\n",
       "      <td>182</td>\n",
       "      <td>48</td>\n",
       "      <td>82330</td>\n",
       "      <td>138</td>\n",
       "      <td>214</td>\n",
       "      <td>0</td>\n",
       "      <td>108</td>\n",
       "      <td>1.5</td>\n",
       "      <td>1</td>\n",
       "    </tr>\n",
       "    <tr>\n",
       "      <th>4</th>\n",
       "      <td>6.1</td>\n",
       "      <td>174</td>\n",
       "      <td>54</td>\n",
       "      <td>108380</td>\n",
       "      <td>150</td>\n",
       "      <td>195</td>\n",
       "      <td>0</td>\n",
       "      <td>122</td>\n",
       "      <td>0.0</td>\n",
       "      <td>0</td>\n",
       "    </tr>\n",
       "  </tbody>\n",
       "</table>\n",
       "</div>"
      ],
      "text/plain": [
       "   Height  Weight  Age  Income  restbp  chol  fbs  maxhr  oldpeak  target\n",
       "0     6.2     204   40   37410     140   289    0    172      0.0       0\n",
       "1     6.1     197   49   37580     160   180    0    156      1.0       1\n",
       "2     6.3     203   37   47760     130   283    0     98      0.0       0\n",
       "3     5.8     182   48   82330     138   214    0    108      1.5       1\n",
       "4     6.1     174   54  108380     150   195    0    122      0.0       0"
      ]
     },
     "execution_count": 36,
     "metadata": {},
     "output_type": "execute_result"
    }
   ],
   "source": [
    "# DataFrame for Numerical Features\n",
    "\n",
    "HDnumericDf = HeartDiseaseDf.select_dtypes([int,float])\n",
    "HDnumericDf.head()"
   ]
  },
  {
   "cell_type": "code",
   "execution_count": null,
   "id": "0bdf3cc5",
   "metadata": {},
   "outputs": [],
   "source": []
  },
  {
   "cell_type": "markdown",
   "id": "cd26cb56",
   "metadata": {},
   "source": [
    "_We will like to know the dimantionon of the HDnumericDf so we check its shape. From the output below we see that the HDnumericDf has 918 rows an 10 columns._"
   ]
  },
  {
   "cell_type": "code",
   "execution_count": 40,
   "id": "8c78acd3",
   "metadata": {},
   "outputs": [
    {
     "data": {
      "text/plain": [
       "(918, 10)"
      ]
     },
     "execution_count": 40,
     "metadata": {},
     "output_type": "execute_result"
    }
   ],
   "source": [
    "HDnumericDf.shape "
   ]
  },
  {
   "cell_type": "markdown",
   "id": "4f07a115",
   "metadata": {},
   "source": [
    "We perform correlation analysis using the numeric features to see the relationship between the features and with target, the response."
   ]
  },
  {
   "cell_type": "code",
   "execution_count": 43,
   "id": "ef406ea5",
   "metadata": {
    "scrolled": true
   },
   "outputs": [
    {
     "name": "stdout",
     "output_type": "stream",
     "text": [
      "           Height    Weight       Age    Income    restbp      chol       fbs  \\\n",
      "Height   1.000000  0.617181  0.030595  0.067321  0.001965 -0.096971  0.063724   \n",
      "Weight   0.617181  1.000000  0.138833  0.096347  0.051774 -0.207021  0.184350   \n",
      "Age      0.030595  0.138833  1.000000  0.036975  0.254399 -0.095282  0.198039   \n",
      "Income   0.067321  0.096347  0.036975  1.000000 -0.040976 -0.076022  0.064110   \n",
      "restbp   0.001965  0.051774  0.254399 -0.040976  1.000000  0.100893  0.070193   \n",
      "chol    -0.096971 -0.207021 -0.095282 -0.076022  0.100893  1.000000 -0.260974   \n",
      "fbs      0.063724  0.184350  0.198039  0.064110  0.070193 -0.260974  1.000000   \n",
      "maxhr   -0.102291 -0.263326 -0.382045 -0.082045 -0.112135  0.235792 -0.131438   \n",
      "oldpeak  0.073357  0.256149  0.258612  0.033460  0.164803  0.050148  0.052698   \n",
      "target   0.156291  0.583409  0.282039  0.045091  0.107589 -0.232741  0.267291   \n",
      "\n",
      "            maxhr   oldpeak    target  \n",
      "Height  -0.102291  0.073357  0.156291  \n",
      "Weight  -0.263326  0.256149  0.583409  \n",
      "Age     -0.382045  0.258612  0.282039  \n",
      "Income  -0.082045  0.033460  0.045091  \n",
      "restbp  -0.112135  0.164803  0.107589  \n",
      "chol     0.235792  0.050148 -0.232741  \n",
      "fbs     -0.131438  0.052698  0.267291  \n",
      "maxhr    1.000000 -0.160691 -0.400421  \n",
      "oldpeak -0.160691  1.000000  0.403951  \n",
      "target  -0.400421  0.403951  1.000000  \n"
     ]
    }
   ],
   "source": [
    "#Correlation Analysis of Numeric Features.\n",
    "matrix = HDnumericDf.corr()\n",
    "print(matrix)"
   ]
  },
  {
   "cell_type": "markdown",
   "id": "688ed684",
   "metadata": {},
   "source": [
    "We then drop the target"
   ]
  },
  {
   "cell_type": "code",
   "execution_count": 46,
   "id": "27ed5ea6",
   "metadata": {},
   "outputs": [
    {
     "data": {
      "text/html": [
       "<div>\n",
       "<style scoped>\n",
       "    .dataframe tbody tr th:only-of-type {\n",
       "        vertical-align: middle;\n",
       "    }\n",
       "\n",
       "    .dataframe tbody tr th {\n",
       "        vertical-align: top;\n",
       "    }\n",
       "\n",
       "    .dataframe thead th {\n",
       "        text-align: right;\n",
       "    }\n",
       "</style>\n",
       "<table border=\"1\" class=\"dataframe\">\n",
       "  <thead>\n",
       "    <tr style=\"text-align: right;\">\n",
       "      <th></th>\n",
       "      <th>Height</th>\n",
       "      <th>Weight</th>\n",
       "      <th>Age</th>\n",
       "      <th>Income</th>\n",
       "      <th>restbp</th>\n",
       "      <th>chol</th>\n",
       "      <th>fbs</th>\n",
       "      <th>maxhr</th>\n",
       "      <th>oldpeak</th>\n",
       "    </tr>\n",
       "  </thead>\n",
       "  <tbody>\n",
       "    <tr>\n",
       "      <th>0</th>\n",
       "      <td>6.2</td>\n",
       "      <td>204</td>\n",
       "      <td>40</td>\n",
       "      <td>37410</td>\n",
       "      <td>140</td>\n",
       "      <td>289</td>\n",
       "      <td>0</td>\n",
       "      <td>172</td>\n",
       "      <td>0.0</td>\n",
       "    </tr>\n",
       "    <tr>\n",
       "      <th>1</th>\n",
       "      <td>6.1</td>\n",
       "      <td>197</td>\n",
       "      <td>49</td>\n",
       "      <td>37580</td>\n",
       "      <td>160</td>\n",
       "      <td>180</td>\n",
       "      <td>0</td>\n",
       "      <td>156</td>\n",
       "      <td>1.0</td>\n",
       "    </tr>\n",
       "    <tr>\n",
       "      <th>2</th>\n",
       "      <td>6.3</td>\n",
       "      <td>203</td>\n",
       "      <td>37</td>\n",
       "      <td>47760</td>\n",
       "      <td>130</td>\n",
       "      <td>283</td>\n",
       "      <td>0</td>\n",
       "      <td>98</td>\n",
       "      <td>0.0</td>\n",
       "    </tr>\n",
       "    <tr>\n",
       "      <th>3</th>\n",
       "      <td>5.8</td>\n",
       "      <td>182</td>\n",
       "      <td>48</td>\n",
       "      <td>82330</td>\n",
       "      <td>138</td>\n",
       "      <td>214</td>\n",
       "      <td>0</td>\n",
       "      <td>108</td>\n",
       "      <td>1.5</td>\n",
       "    </tr>\n",
       "    <tr>\n",
       "      <th>4</th>\n",
       "      <td>6.1</td>\n",
       "      <td>174</td>\n",
       "      <td>54</td>\n",
       "      <td>108380</td>\n",
       "      <td>150</td>\n",
       "      <td>195</td>\n",
       "      <td>0</td>\n",
       "      <td>122</td>\n",
       "      <td>0.0</td>\n",
       "    </tr>\n",
       "  </tbody>\n",
       "</table>\n",
       "</div>"
      ],
      "text/plain": [
       "   Height  Weight  Age  Income  restbp  chol  fbs  maxhr  oldpeak\n",
       "0     6.2     204   40   37410     140   289    0    172      0.0\n",
       "1     6.1     197   49   37580     160   180    0    156      1.0\n",
       "2     6.3     203   37   47760     130   283    0     98      0.0\n",
       "3     5.8     182   48   82330     138   214    0    108      1.5\n",
       "4     6.1     174   54  108380     150   195    0    122      0.0"
      ]
     },
     "execution_count": 46,
     "metadata": {},
     "output_type": "execute_result"
    }
   ],
   "source": [
    "X = HDnumericDf.drop('target', axis =1 )\n",
    "y_1 = HDnumericDf.target\n",
    "\n",
    "X.head()"
   ]
  },
  {
   "cell_type": "markdown",
   "id": "6f882a55",
   "metadata": {},
   "source": [
    "_Next, we check the variance threshold to see which features to drop. We observe from the below output that all the numeric features are good predictors of the response._"
   ]
  },
  {
   "cell_type": "code",
   "execution_count": 49,
   "id": "d96f537f",
   "metadata": {},
   "outputs": [
    {
     "data": {
      "text/plain": [
       "array(['Height', 'Weight', 'Age', 'Income', 'restbp', 'chol', 'fbs',\n",
       "       'maxhr', 'oldpeak'], dtype=object)"
      ]
     },
     "execution_count": 49,
     "metadata": {},
     "output_type": "execute_result"
    }
   ],
   "source": [
    "from sklearn.feature_selection import VarianceThreshold\n",
    "\n",
    "p = 0.9  ## eliminate boolean if probability of either 1 or 0 exceeds p\n",
    "\n",
    "sel = VarianceThreshold( threshold = p * (1-p) )\n",
    "sel.fit(X)\n",
    "sel.get_feature_names_out()"
   ]
  },
  {
   "cell_type": "code",
   "execution_count": null,
   "id": "392b7bd7",
   "metadata": {},
   "outputs": [],
   "source": []
  },
  {
   "cell_type": "markdown",
   "id": "38ec1df6",
   "metadata": {},
   "source": [
    "_Now, we will look at the Non-numeric features_"
   ]
  },
  {
   "cell_type": "code",
   "execution_count": 53,
   "id": "1682bb9a",
   "metadata": {},
   "outputs": [
    {
     "data": {
      "text/html": [
       "<div>\n",
       "<style scoped>\n",
       "    .dataframe tbody tr th:only-of-type {\n",
       "        vertical-align: middle;\n",
       "    }\n",
       "\n",
       "    .dataframe tbody tr th {\n",
       "        vertical-align: top;\n",
       "    }\n",
       "\n",
       "    .dataframe thead th {\n",
       "        text-align: right;\n",
       "    }\n",
       "</style>\n",
       "<table border=\"1\" class=\"dataframe\">\n",
       "  <thead>\n",
       "    <tr style=\"text-align: right;\">\n",
       "      <th></th>\n",
       "      <th>Sex</th>\n",
       "      <th>chstpn</th>\n",
       "      <th>restecg</th>\n",
       "      <th>exang</th>\n",
       "      <th>slope</th>\n",
       "    </tr>\n",
       "  </thead>\n",
       "  <tbody>\n",
       "    <tr>\n",
       "      <th>0</th>\n",
       "      <td>M</td>\n",
       "      <td>ATA</td>\n",
       "      <td>Normal</td>\n",
       "      <td>N</td>\n",
       "      <td>Up</td>\n",
       "    </tr>\n",
       "    <tr>\n",
       "      <th>1</th>\n",
       "      <td>F</td>\n",
       "      <td>NAP</td>\n",
       "      <td>Normal</td>\n",
       "      <td>N</td>\n",
       "      <td>Flat</td>\n",
       "    </tr>\n",
       "    <tr>\n",
       "      <th>2</th>\n",
       "      <td>M</td>\n",
       "      <td>ATA</td>\n",
       "      <td>ST</td>\n",
       "      <td>N</td>\n",
       "      <td>Up</td>\n",
       "    </tr>\n",
       "    <tr>\n",
       "      <th>3</th>\n",
       "      <td>F</td>\n",
       "      <td>ASY</td>\n",
       "      <td>Normal</td>\n",
       "      <td>Y</td>\n",
       "      <td>Flat</td>\n",
       "    </tr>\n",
       "    <tr>\n",
       "      <th>4</th>\n",
       "      <td>M</td>\n",
       "      <td>NAP</td>\n",
       "      <td>Normal</td>\n",
       "      <td>N</td>\n",
       "      <td>Up</td>\n",
       "    </tr>\n",
       "    <tr>\n",
       "      <th>...</th>\n",
       "      <td>...</td>\n",
       "      <td>...</td>\n",
       "      <td>...</td>\n",
       "      <td>...</td>\n",
       "      <td>...</td>\n",
       "    </tr>\n",
       "    <tr>\n",
       "      <th>913</th>\n",
       "      <td>M</td>\n",
       "      <td>TA</td>\n",
       "      <td>Normal</td>\n",
       "      <td>N</td>\n",
       "      <td>Flat</td>\n",
       "    </tr>\n",
       "    <tr>\n",
       "      <th>914</th>\n",
       "      <td>M</td>\n",
       "      <td>ASY</td>\n",
       "      <td>Normal</td>\n",
       "      <td>N</td>\n",
       "      <td>Flat</td>\n",
       "    </tr>\n",
       "    <tr>\n",
       "      <th>915</th>\n",
       "      <td>M</td>\n",
       "      <td>ASY</td>\n",
       "      <td>Normal</td>\n",
       "      <td>Y</td>\n",
       "      <td>Flat</td>\n",
       "    </tr>\n",
       "    <tr>\n",
       "      <th>916</th>\n",
       "      <td>F</td>\n",
       "      <td>ATA</td>\n",
       "      <td>LVH</td>\n",
       "      <td>N</td>\n",
       "      <td>Flat</td>\n",
       "    </tr>\n",
       "    <tr>\n",
       "      <th>917</th>\n",
       "      <td>M</td>\n",
       "      <td>NAP</td>\n",
       "      <td>Normal</td>\n",
       "      <td>N</td>\n",
       "      <td>Up</td>\n",
       "    </tr>\n",
       "  </tbody>\n",
       "</table>\n",
       "<p>918 rows × 5 columns</p>\n",
       "</div>"
      ],
      "text/plain": [
       "    Sex chstpn restecg exang slope\n",
       "0     M    ATA  Normal     N    Up\n",
       "1     F    NAP  Normal     N  Flat\n",
       "2     M    ATA      ST     N    Up\n",
       "3     F    ASY  Normal     Y  Flat\n",
       "4     M    NAP  Normal     N    Up\n",
       "..   ..    ...     ...   ...   ...\n",
       "913   M     TA  Normal     N  Flat\n",
       "914   M    ASY  Normal     N  Flat\n",
       "915   M    ASY  Normal     Y  Flat\n",
       "916   F    ATA     LVH     N  Flat\n",
       "917   M    NAP  Normal     N    Up\n",
       "\n",
       "[918 rows x 5 columns]"
      ]
     },
     "execution_count": 53,
     "metadata": {},
     "output_type": "execute_result"
    }
   ],
   "source": [
    "HDNonNumericDf = HeartDiseaseDf.select_dtypes(exclude = [int,float])\n",
    "HDNonNumericDf"
   ]
  },
  {
   "cell_type": "code",
   "execution_count": null,
   "id": "e720832b",
   "metadata": {},
   "outputs": [],
   "source": []
  },
  {
   "cell_type": "markdown",
   "id": "e810c58e",
   "metadata": {},
   "source": [
    "_We assign numeric values to the non-numeric features for the purpose of analysis. We are using the One Hot Encoder._"
   ]
  },
  {
   "cell_type": "code",
   "execution_count": 57,
   "id": "169a0daa",
   "metadata": {},
   "outputs": [],
   "source": [
    "from sklearn.preprocessing import OneHotEncoder"
   ]
  },
  {
   "cell_type": "code",
   "execution_count": 59,
   "id": "fc40cde6",
   "metadata": {
    "scrolled": true
   },
   "outputs": [
    {
     "data": {
      "text/plain": [
       "[array(['F', 'M'], dtype=object),\n",
       " array(['ASY', 'ATA', 'NAP', 'TA'], dtype=object),\n",
       " array(['LVH', 'Normal', 'ST'], dtype=object),\n",
       " array(['N', 'Y'], dtype=object),\n",
       " array(['Down', 'Flat', 'Up'], dtype=object)]"
      ]
     },
     "execution_count": 59,
     "metadata": {},
     "output_type": "execute_result"
    }
   ],
   "source": [
    "#Here we print out the categories under each Non numeric feature\n",
    "\n",
    "from sklearn.preprocessing import OneHotEncoder\n",
    "ohe = OneHotEncoder( dtype = int ) # We want integer 0 or 1\n",
    "encoded = ohe.fit_transform(HeartDiseaseDf[ ['Sex','chstpn','restecg','exang','slope'] ] )\n",
    "encoded\n",
    "ohe.categories_\n",
    "\n"
   ]
  },
  {
   "cell_type": "code",
   "execution_count": null,
   "id": "aabb433d",
   "metadata": {},
   "outputs": [],
   "source": []
  },
  {
   "cell_type": "markdown",
   "id": "ab9a2761",
   "metadata": {},
   "source": [
    "_We then assign numeric values to each component and then concatenate with the numeric feature of the Data._"
   ]
  },
  {
   "cell_type": "code",
   "execution_count": null,
   "id": "e1ad5b02",
   "metadata": {
    "scrolled": true
   },
   "outputs": [],
   "source": []
  },
  {
   "cell_type": "code",
   "execution_count": 74,
   "id": "aab5f39a-24b3-4b9a-a4f8-104348ae9d45",
   "metadata": {},
   "outputs": [
    {
     "data": {
      "text/plain": [
       "Index(['Sex', 'chstpn', 'restecg', 'exang', 'slope'], dtype='object')"
      ]
     },
     "execution_count": 74,
     "metadata": {},
     "output_type": "execute_result"
    }
   ],
   "source": [
    "from sklearn.preprocessing import OneHotEncoder\n",
    "categories = HeartDiseaseDf.select_dtypes(exclude = [int,float]).columns\n",
    "categories"
   ]
  },
  {
   "cell_type": "code",
   "execution_count": 76,
   "id": "4cef9ca1-3d59-4ae9-9ca9-1e48f8d70d84",
   "metadata": {},
   "outputs": [
    {
     "data": {
      "text/html": [
       "<div>\n",
       "<style scoped>\n",
       "    .dataframe tbody tr th:only-of-type {\n",
       "        vertical-align: middle;\n",
       "    }\n",
       "\n",
       "    .dataframe tbody tr th {\n",
       "        vertical-align: top;\n",
       "    }\n",
       "\n",
       "    .dataframe thead th {\n",
       "        text-align: right;\n",
       "    }\n",
       "</style>\n",
       "<table border=\"1\" class=\"dataframe\">\n",
       "  <thead>\n",
       "    <tr style=\"text-align: right;\">\n",
       "      <th></th>\n",
       "      <th>Down</th>\n",
       "      <th>Flat</th>\n",
       "      <th>Up</th>\n",
       "      <th>N</th>\n",
       "      <th>Y</th>\n",
       "      <th>LVH</th>\n",
       "      <th>Normal</th>\n",
       "      <th>ST</th>\n",
       "      <th>ASY</th>\n",
       "      <th>ATA</th>\n",
       "      <th>...</th>\n",
       "      <th>Height</th>\n",
       "      <th>Weight</th>\n",
       "      <th>Age</th>\n",
       "      <th>Income</th>\n",
       "      <th>restbp</th>\n",
       "      <th>chol</th>\n",
       "      <th>fbs</th>\n",
       "      <th>maxhr</th>\n",
       "      <th>oldpeak</th>\n",
       "      <th>target</th>\n",
       "    </tr>\n",
       "  </thead>\n",
       "  <tbody>\n",
       "    <tr>\n",
       "      <th>0</th>\n",
       "      <td>0</td>\n",
       "      <td>0</td>\n",
       "      <td>1</td>\n",
       "      <td>1</td>\n",
       "      <td>0</td>\n",
       "      <td>0</td>\n",
       "      <td>1</td>\n",
       "      <td>0</td>\n",
       "      <td>0</td>\n",
       "      <td>1</td>\n",
       "      <td>...</td>\n",
       "      <td>6.2</td>\n",
       "      <td>204</td>\n",
       "      <td>40</td>\n",
       "      <td>37410</td>\n",
       "      <td>140</td>\n",
       "      <td>289</td>\n",
       "      <td>0</td>\n",
       "      <td>172</td>\n",
       "      <td>0.0</td>\n",
       "      <td>0</td>\n",
       "    </tr>\n",
       "    <tr>\n",
       "      <th>1</th>\n",
       "      <td>0</td>\n",
       "      <td>1</td>\n",
       "      <td>0</td>\n",
       "      <td>1</td>\n",
       "      <td>0</td>\n",
       "      <td>0</td>\n",
       "      <td>1</td>\n",
       "      <td>0</td>\n",
       "      <td>0</td>\n",
       "      <td>0</td>\n",
       "      <td>...</td>\n",
       "      <td>6.1</td>\n",
       "      <td>197</td>\n",
       "      <td>49</td>\n",
       "      <td>37580</td>\n",
       "      <td>160</td>\n",
       "      <td>180</td>\n",
       "      <td>0</td>\n",
       "      <td>156</td>\n",
       "      <td>1.0</td>\n",
       "      <td>1</td>\n",
       "    </tr>\n",
       "    <tr>\n",
       "      <th>2</th>\n",
       "      <td>0</td>\n",
       "      <td>0</td>\n",
       "      <td>1</td>\n",
       "      <td>1</td>\n",
       "      <td>0</td>\n",
       "      <td>0</td>\n",
       "      <td>0</td>\n",
       "      <td>1</td>\n",
       "      <td>0</td>\n",
       "      <td>1</td>\n",
       "      <td>...</td>\n",
       "      <td>6.3</td>\n",
       "      <td>203</td>\n",
       "      <td>37</td>\n",
       "      <td>47760</td>\n",
       "      <td>130</td>\n",
       "      <td>283</td>\n",
       "      <td>0</td>\n",
       "      <td>98</td>\n",
       "      <td>0.0</td>\n",
       "      <td>0</td>\n",
       "    </tr>\n",
       "    <tr>\n",
       "      <th>3</th>\n",
       "      <td>0</td>\n",
       "      <td>1</td>\n",
       "      <td>0</td>\n",
       "      <td>0</td>\n",
       "      <td>1</td>\n",
       "      <td>0</td>\n",
       "      <td>1</td>\n",
       "      <td>0</td>\n",
       "      <td>1</td>\n",
       "      <td>0</td>\n",
       "      <td>...</td>\n",
       "      <td>5.8</td>\n",
       "      <td>182</td>\n",
       "      <td>48</td>\n",
       "      <td>82330</td>\n",
       "      <td>138</td>\n",
       "      <td>214</td>\n",
       "      <td>0</td>\n",
       "      <td>108</td>\n",
       "      <td>1.5</td>\n",
       "      <td>1</td>\n",
       "    </tr>\n",
       "    <tr>\n",
       "      <th>4</th>\n",
       "      <td>0</td>\n",
       "      <td>0</td>\n",
       "      <td>1</td>\n",
       "      <td>1</td>\n",
       "      <td>0</td>\n",
       "      <td>0</td>\n",
       "      <td>1</td>\n",
       "      <td>0</td>\n",
       "      <td>0</td>\n",
       "      <td>0</td>\n",
       "      <td>...</td>\n",
       "      <td>6.1</td>\n",
       "      <td>174</td>\n",
       "      <td>54</td>\n",
       "      <td>108380</td>\n",
       "      <td>150</td>\n",
       "      <td>195</td>\n",
       "      <td>0</td>\n",
       "      <td>122</td>\n",
       "      <td>0.0</td>\n",
       "      <td>0</td>\n",
       "    </tr>\n",
       "  </tbody>\n",
       "</table>\n",
       "<p>5 rows × 24 columns</p>\n",
       "</div>"
      ],
      "text/plain": [
       "   Down  Flat  Up  N  Y  LVH  Normal  ST  ASY  ATA  ...  Height  Weight  Age  \\\n",
       "0     0     0   1  1  0    0       1   0    0    1  ...     6.2     204   40   \n",
       "1     0     1   0  1  0    0       1   0    0    0  ...     6.1     197   49   \n",
       "2     0     0   1  1  0    0       0   1    0    1  ...     6.3     203   37   \n",
       "3     0     1   0  0  1    0       1   0    1    0  ...     5.8     182   48   \n",
       "4     0     0   1  1  0    0       1   0    0    0  ...     6.1     174   54   \n",
       "\n",
       "   Income  restbp  chol  fbs  maxhr  oldpeak  target  \n",
       "0   37410     140   289    0    172      0.0       0  \n",
       "1   37580     160   180    0    156      1.0       1  \n",
       "2   47760     130   283    0     98      0.0       0  \n",
       "3   82330     138   214    0    108      1.5       1  \n",
       "4  108380     150   195    0    122      0.0       0  \n",
       "\n",
       "[5 rows x 24 columns]"
      ]
     },
     "execution_count": 76,
     "metadata": {},
     "output_type": "execute_result"
    }
   ],
   "source": [
    "ohe = OneHotEncoder( dtype = int ) # We want integer 0 or 1\n",
    "HeartDiseaseDf_new = HeartDiseaseDf.copy()\n",
    "\n",
    "for category in categories: \n",
    "    encoded = ohe.fit_transform( HeartDiseaseDf[ [category] ] )\n",
    "    oheDf = pd.DataFrame( encoded.todense(), \n",
    "                          columns = ohe.categories_[0])\n",
    "\n",
    "    HeartDiseaseDf_new = pd.concat([oheDf,HeartDiseaseDf_new], axis=1 )  \n",
    "    HeartDiseaseDf_new.drop(category, axis=1, inplace=True)\n",
    "HeartDiseaseDf_new.head()"
   ]
  },
  {
   "cell_type": "code",
   "execution_count": 78,
   "id": "5a018461-0d3d-4f0b-ac9e-9abd852c3980",
   "metadata": {},
   "outputs": [
    {
     "data": {
      "text/html": [
       "<div>\n",
       "<style scoped>\n",
       "    .dataframe tbody tr th:only-of-type {\n",
       "        vertical-align: middle;\n",
       "    }\n",
       "\n",
       "    .dataframe tbody tr th {\n",
       "        vertical-align: top;\n",
       "    }\n",
       "\n",
       "    .dataframe thead th {\n",
       "        text-align: right;\n",
       "    }\n",
       "</style>\n",
       "<table border=\"1\" class=\"dataframe\">\n",
       "  <thead>\n",
       "    <tr style=\"text-align: right;\">\n",
       "      <th></th>\n",
       "      <th>Down</th>\n",
       "      <th>Flat</th>\n",
       "      <th>Up</th>\n",
       "      <th>N</th>\n",
       "      <th>Y</th>\n",
       "      <th>LVH</th>\n",
       "      <th>Normal</th>\n",
       "      <th>ST</th>\n",
       "      <th>ASY</th>\n",
       "      <th>ATA</th>\n",
       "      <th>...</th>\n",
       "      <th>M</th>\n",
       "      <th>Height</th>\n",
       "      <th>Weight</th>\n",
       "      <th>Age</th>\n",
       "      <th>Income</th>\n",
       "      <th>restbp</th>\n",
       "      <th>chol</th>\n",
       "      <th>fbs</th>\n",
       "      <th>maxhr</th>\n",
       "      <th>oldpeak</th>\n",
       "    </tr>\n",
       "  </thead>\n",
       "  <tbody>\n",
       "    <tr>\n",
       "      <th>0</th>\n",
       "      <td>0</td>\n",
       "      <td>0</td>\n",
       "      <td>1</td>\n",
       "      <td>1</td>\n",
       "      <td>0</td>\n",
       "      <td>0</td>\n",
       "      <td>1</td>\n",
       "      <td>0</td>\n",
       "      <td>0</td>\n",
       "      <td>1</td>\n",
       "      <td>...</td>\n",
       "      <td>1</td>\n",
       "      <td>6.2</td>\n",
       "      <td>204</td>\n",
       "      <td>40</td>\n",
       "      <td>37410</td>\n",
       "      <td>140</td>\n",
       "      <td>289</td>\n",
       "      <td>0</td>\n",
       "      <td>172</td>\n",
       "      <td>0.0</td>\n",
       "    </tr>\n",
       "    <tr>\n",
       "      <th>1</th>\n",
       "      <td>0</td>\n",
       "      <td>1</td>\n",
       "      <td>0</td>\n",
       "      <td>1</td>\n",
       "      <td>0</td>\n",
       "      <td>0</td>\n",
       "      <td>1</td>\n",
       "      <td>0</td>\n",
       "      <td>0</td>\n",
       "      <td>0</td>\n",
       "      <td>...</td>\n",
       "      <td>0</td>\n",
       "      <td>6.1</td>\n",
       "      <td>197</td>\n",
       "      <td>49</td>\n",
       "      <td>37580</td>\n",
       "      <td>160</td>\n",
       "      <td>180</td>\n",
       "      <td>0</td>\n",
       "      <td>156</td>\n",
       "      <td>1.0</td>\n",
       "    </tr>\n",
       "    <tr>\n",
       "      <th>2</th>\n",
       "      <td>0</td>\n",
       "      <td>0</td>\n",
       "      <td>1</td>\n",
       "      <td>1</td>\n",
       "      <td>0</td>\n",
       "      <td>0</td>\n",
       "      <td>0</td>\n",
       "      <td>1</td>\n",
       "      <td>0</td>\n",
       "      <td>1</td>\n",
       "      <td>...</td>\n",
       "      <td>1</td>\n",
       "      <td>6.3</td>\n",
       "      <td>203</td>\n",
       "      <td>37</td>\n",
       "      <td>47760</td>\n",
       "      <td>130</td>\n",
       "      <td>283</td>\n",
       "      <td>0</td>\n",
       "      <td>98</td>\n",
       "      <td>0.0</td>\n",
       "    </tr>\n",
       "    <tr>\n",
       "      <th>3</th>\n",
       "      <td>0</td>\n",
       "      <td>1</td>\n",
       "      <td>0</td>\n",
       "      <td>0</td>\n",
       "      <td>1</td>\n",
       "      <td>0</td>\n",
       "      <td>1</td>\n",
       "      <td>0</td>\n",
       "      <td>1</td>\n",
       "      <td>0</td>\n",
       "      <td>...</td>\n",
       "      <td>0</td>\n",
       "      <td>5.8</td>\n",
       "      <td>182</td>\n",
       "      <td>48</td>\n",
       "      <td>82330</td>\n",
       "      <td>138</td>\n",
       "      <td>214</td>\n",
       "      <td>0</td>\n",
       "      <td>108</td>\n",
       "      <td>1.5</td>\n",
       "    </tr>\n",
       "    <tr>\n",
       "      <th>4</th>\n",
       "      <td>0</td>\n",
       "      <td>0</td>\n",
       "      <td>1</td>\n",
       "      <td>1</td>\n",
       "      <td>0</td>\n",
       "      <td>0</td>\n",
       "      <td>1</td>\n",
       "      <td>0</td>\n",
       "      <td>0</td>\n",
       "      <td>0</td>\n",
       "      <td>...</td>\n",
       "      <td>1</td>\n",
       "      <td>6.1</td>\n",
       "      <td>174</td>\n",
       "      <td>54</td>\n",
       "      <td>108380</td>\n",
       "      <td>150</td>\n",
       "      <td>195</td>\n",
       "      <td>0</td>\n",
       "      <td>122</td>\n",
       "      <td>0.0</td>\n",
       "    </tr>\n",
       "  </tbody>\n",
       "</table>\n",
       "<p>5 rows × 23 columns</p>\n",
       "</div>"
      ],
      "text/plain": [
       "   Down  Flat  Up  N  Y  LVH  Normal  ST  ASY  ATA  ...  M  Height  Weight  \\\n",
       "0     0     0   1  1  0    0       1   0    0    1  ...  1     6.2     204   \n",
       "1     0     1   0  1  0    0       1   0    0    0  ...  0     6.1     197   \n",
       "2     0     0   1  1  0    0       0   1    0    1  ...  1     6.3     203   \n",
       "3     0     1   0  0  1    0       1   0    1    0  ...  0     5.8     182   \n",
       "4     0     0   1  1  0    0       1   0    0    0  ...  1     6.1     174   \n",
       "\n",
       "   Age  Income  restbp  chol  fbs  maxhr  oldpeak  \n",
       "0   40   37410     140   289    0    172      0.0  \n",
       "1   49   37580     160   180    0    156      1.0  \n",
       "2   37   47760     130   283    0     98      0.0  \n",
       "3   48   82330     138   214    0    108      1.5  \n",
       "4   54  108380     150   195    0    122      0.0  \n",
       "\n",
       "[5 rows x 23 columns]"
      ]
     },
     "execution_count": 78,
     "metadata": {},
     "output_type": "execute_result"
    }
   ],
   "source": [
    "X = HeartDiseaseDf_new.drop('target',axis = 1)\n",
    "y_1 = HeartDiseaseDf_new.target\n",
    "X.head()\n"
   ]
  },
  {
   "cell_type": "code",
   "execution_count": 80,
   "id": "1f5a7af4",
   "metadata": {},
   "outputs": [
    {
     "data": {
      "text/plain": [
       "Down       0.015013\n",
       "Flat       0.307064\n",
       "Up         0.387088\n",
       "N          0.244315\n",
       "Y          0.244315\n",
       "LVH        0.000114\n",
       "Normal     0.008387\n",
       "ST         0.010512\n",
       "ASY        0.266996\n",
       "ATA        0.161543\n",
       "NAP        0.045354\n",
       "TA         0.003002\n",
       "F          0.093297\n",
       "M          0.093297\n",
       "Height     0.024427\n",
       "Weight     0.340367\n",
       "Age        0.079546\n",
       "Income     0.002033\n",
       "restbp     0.011575\n",
       "chol       0.054168\n",
       "fbs        0.071445\n",
       "maxhr      0.160337\n",
       "oldpeak    0.163176\n",
       "dtype: float64"
      ]
     },
     "execution_count": 80,
     "metadata": {},
     "output_type": "execute_result"
    }
   ],
   "source": [
    "X.corrwith(y_1)**2"
   ]
  },
  {
   "cell_type": "markdown",
   "id": "c3b6bcd0",
   "metadata": {},
   "source": [
    " __Principal Components Analysis (PCA)__\n",
    " \n",
    " Before we perform Principal Component Analysis our numeric data, we first normalize or rescale our data.\n",
    " \n",
    " \n",
    " \n",
    " \n",
    " \n",
    " "
   ]
  },
  {
   "cell_type": "code",
   "execution_count": 83,
   "id": "2b8e2e09",
   "metadata": {},
   "outputs": [
    {
     "data": {
      "text/plain": [
       "array([[-0.27144836, -1.00218103,  1.15067399, ..., -0.55134134,\n",
       "         1.38292822, -0.83243239],\n",
       "       [-0.27144836,  0.99782372, -0.86905588, ..., -0.55134134,\n",
       "         0.75415714,  0.10566353],\n",
       "       [-0.27144836, -1.00218103,  1.15067399, ..., -0.55134134,\n",
       "        -1.52513802, -0.83243239],\n",
       "       ...,\n",
       "       [-0.27144836,  0.99782372, -0.86905588, ..., -0.55134134,\n",
       "        -0.85706875,  0.29328271],\n",
       "       [-0.27144836,  0.99782372, -0.86905588, ..., -0.55134134,\n",
       "         1.4615246 , -0.83243239],\n",
       "       [-0.27144836, -1.00218103,  1.15067399, ..., -0.55134134,\n",
       "         1.42222641, -0.83243239]])"
      ]
     },
     "execution_count": 83,
     "metadata": {},
     "output_type": "execute_result"
    }
   ],
   "source": [
    "\n",
    "from sklearn.preprocessing import StandardScaler\n",
    "ScaledHeartDisease =HDnumericDf.target.values\n",
    "Scaler = StandardScaler().fit_transform(X) # normalizing the features\n",
    "Scaler\n",
    "\n"
   ]
  },
  {
   "cell_type": "markdown",
   "id": "e1fce5d0",
   "metadata": {
    "tags": []
   },
   "source": [
    "Now, we want to check if we have a mean of 0 and standard deniation of 1."
   ]
  },
  {
   "cell_type": "code",
   "execution_count": 86,
   "id": "bdf2a206",
   "metadata": {},
   "outputs": [
    {
     "data": {
      "text/plain": [
       "(6.696883793514253e-17, 1.0)"
      ]
     },
     "execution_count": 86,
     "metadata": {},
     "output_type": "execute_result"
    }
   ],
   "source": [
    "##Let's check whether the normalized data has a mean of zero and a standard deviation of one\n",
    "np.mean (Scaler), np.std(Scaler)"
   ]
  },
  {
   "cell_type": "code",
   "execution_count": 88,
   "id": "32f9db0a-e03d-44b6-8ce6-f6074726a32b",
   "metadata": {},
   "outputs": [
    {
     "data": {
      "text/html": [
       "<div>\n",
       "<style scoped>\n",
       "    .dataframe tbody tr th:only-of-type {\n",
       "        vertical-align: middle;\n",
       "    }\n",
       "\n",
       "    .dataframe tbody tr th {\n",
       "        vertical-align: top;\n",
       "    }\n",
       "\n",
       "    .dataframe thead th {\n",
       "        text-align: right;\n",
       "    }\n",
       "</style>\n",
       "<table border=\"1\" class=\"dataframe\">\n",
       "  <thead>\n",
       "    <tr style=\"text-align: right;\">\n",
       "      <th></th>\n",
       "      <th>Height</th>\n",
       "      <th>Weight</th>\n",
       "      <th>Age</th>\n",
       "      <th>Income</th>\n",
       "      <th>restbp</th>\n",
       "      <th>chol</th>\n",
       "      <th>fbs</th>\n",
       "      <th>maxhr</th>\n",
       "      <th>oldpeak</th>\n",
       "      <th>target</th>\n",
       "    </tr>\n",
       "  </thead>\n",
       "  <tbody>\n",
       "    <tr>\n",
       "      <th>0</th>\n",
       "      <td>6.2</td>\n",
       "      <td>204</td>\n",
       "      <td>40</td>\n",
       "      <td>37410</td>\n",
       "      <td>140</td>\n",
       "      <td>289</td>\n",
       "      <td>0</td>\n",
       "      <td>172</td>\n",
       "      <td>0.0</td>\n",
       "      <td>0</td>\n",
       "    </tr>\n",
       "    <tr>\n",
       "      <th>1</th>\n",
       "      <td>6.1</td>\n",
       "      <td>197</td>\n",
       "      <td>49</td>\n",
       "      <td>37580</td>\n",
       "      <td>160</td>\n",
       "      <td>180</td>\n",
       "      <td>0</td>\n",
       "      <td>156</td>\n",
       "      <td>1.0</td>\n",
       "      <td>1</td>\n",
       "    </tr>\n",
       "    <tr>\n",
       "      <th>2</th>\n",
       "      <td>6.3</td>\n",
       "      <td>203</td>\n",
       "      <td>37</td>\n",
       "      <td>47760</td>\n",
       "      <td>130</td>\n",
       "      <td>283</td>\n",
       "      <td>0</td>\n",
       "      <td>98</td>\n",
       "      <td>0.0</td>\n",
       "      <td>0</td>\n",
       "    </tr>\n",
       "    <tr>\n",
       "      <th>3</th>\n",
       "      <td>5.8</td>\n",
       "      <td>182</td>\n",
       "      <td>48</td>\n",
       "      <td>82330</td>\n",
       "      <td>138</td>\n",
       "      <td>214</td>\n",
       "      <td>0</td>\n",
       "      <td>108</td>\n",
       "      <td>1.5</td>\n",
       "      <td>1</td>\n",
       "    </tr>\n",
       "    <tr>\n",
       "      <th>4</th>\n",
       "      <td>6.1</td>\n",
       "      <td>174</td>\n",
       "      <td>54</td>\n",
       "      <td>108380</td>\n",
       "      <td>150</td>\n",
       "      <td>195</td>\n",
       "      <td>0</td>\n",
       "      <td>122</td>\n",
       "      <td>0.0</td>\n",
       "      <td>0</td>\n",
       "    </tr>\n",
       "    <tr>\n",
       "      <th>...</th>\n",
       "      <td>...</td>\n",
       "      <td>...</td>\n",
       "      <td>...</td>\n",
       "      <td>...</td>\n",
       "      <td>...</td>\n",
       "      <td>...</td>\n",
       "      <td>...</td>\n",
       "      <td>...</td>\n",
       "      <td>...</td>\n",
       "      <td>...</td>\n",
       "    </tr>\n",
       "    <tr>\n",
       "      <th>913</th>\n",
       "      <td>5.8</td>\n",
       "      <td>208</td>\n",
       "      <td>45</td>\n",
       "      <td>72210</td>\n",
       "      <td>110</td>\n",
       "      <td>264</td>\n",
       "      <td>0</td>\n",
       "      <td>132</td>\n",
       "      <td>1.2</td>\n",
       "      <td>1</td>\n",
       "    </tr>\n",
       "    <tr>\n",
       "      <th>914</th>\n",
       "      <td>5.9</td>\n",
       "      <td>216</td>\n",
       "      <td>68</td>\n",
       "      <td>39050</td>\n",
       "      <td>144</td>\n",
       "      <td>193</td>\n",
       "      <td>1</td>\n",
       "      <td>141</td>\n",
       "      <td>3.4</td>\n",
       "      <td>1</td>\n",
       "    </tr>\n",
       "    <tr>\n",
       "      <th>915</th>\n",
       "      <td>5.9</td>\n",
       "      <td>209</td>\n",
       "      <td>57</td>\n",
       "      <td>71630</td>\n",
       "      <td>130</td>\n",
       "      <td>131</td>\n",
       "      <td>0</td>\n",
       "      <td>115</td>\n",
       "      <td>1.2</td>\n",
       "      <td>1</td>\n",
       "    </tr>\n",
       "    <tr>\n",
       "      <th>916</th>\n",
       "      <td>5.9</td>\n",
       "      <td>190</td>\n",
       "      <td>57</td>\n",
       "      <td>33940</td>\n",
       "      <td>130</td>\n",
       "      <td>236</td>\n",
       "      <td>0</td>\n",
       "      <td>174</td>\n",
       "      <td>0.0</td>\n",
       "      <td>1</td>\n",
       "    </tr>\n",
       "    <tr>\n",
       "      <th>917</th>\n",
       "      <td>5.9</td>\n",
       "      <td>172</td>\n",
       "      <td>38</td>\n",
       "      <td>79750</td>\n",
       "      <td>138</td>\n",
       "      <td>175</td>\n",
       "      <td>0</td>\n",
       "      <td>173</td>\n",
       "      <td>0.0</td>\n",
       "      <td>0</td>\n",
       "    </tr>\n",
       "  </tbody>\n",
       "</table>\n",
       "<p>918 rows × 10 columns</p>\n",
       "</div>"
      ],
      "text/plain": [
       "     Height  Weight  Age  Income  restbp  chol  fbs  maxhr  oldpeak  target\n",
       "0       6.2     204   40   37410     140   289    0    172      0.0       0\n",
       "1       6.1     197   49   37580     160   180    0    156      1.0       1\n",
       "2       6.3     203   37   47760     130   283    0     98      0.0       0\n",
       "3       5.8     182   48   82330     138   214    0    108      1.5       1\n",
       "4       6.1     174   54  108380     150   195    0    122      0.0       0\n",
       "..      ...     ...  ...     ...     ...   ...  ...    ...      ...     ...\n",
       "913     5.8     208   45   72210     110   264    0    132      1.2       1\n",
       "914     5.9     216   68   39050     144   193    1    141      3.4       1\n",
       "915     5.9     209   57   71630     130   131    0    115      1.2       1\n",
       "916     5.9     190   57   33940     130   236    0    174      0.0       1\n",
       "917     5.9     172   38   79750     138   175    0    173      0.0       0\n",
       "\n",
       "[918 rows x 10 columns]"
      ]
     },
     "execution_count": 88,
     "metadata": {},
     "output_type": "execute_result"
    }
   ],
   "source": [
    "HDnumericDf"
   ]
  },
  {
   "cell_type": "markdown",
   "id": "bc0d5de8",
   "metadata": {},
   "source": [
    "__Principal Component Analysis (PCA)of at least One Component of the Data Set__"
   ]
  },
  {
   "cell_type": "code",
   "execution_count": 90,
   "id": "6d53ca0f",
   "metadata": {},
   "outputs": [
    {
     "data": {
      "text/plain": [
       "array([[ 2.41505029, -2.33014325, -0.75398244, -1.31149623, -1.28080192,\n",
       "        -0.57154182],\n",
       "       [ 1.48194539,  1.44406272, -0.73796968, -0.11016752,  2.4517983 ,\n",
       "        -0.09354414],\n",
       "       [ 1.29016392, -2.04991186,  1.02119535,  0.64770371, -2.05231496,\n",
       "        -1.86907924],\n",
       "       ...,\n",
       "       [-2.52721718,  0.06500249, -1.71879219, -0.11631313,  0.15147999,\n",
       "        -0.23514661],\n",
       "       [ 2.30102991,  2.06460453,  1.11783733, -1.16473114,  0.12983814,\n",
       "        -1.37684774],\n",
       "       [ 2.52287003, -1.87959431, -0.28671467, -0.41128529,  1.14440368,\n",
       "         0.41628776]])"
      ]
     },
     "execution_count": 90,
     "metadata": {},
     "output_type": "execute_result"
    }
   ],
   "source": [
    "#Principal Components Analysis\n",
    "\n",
    "from sklearn.decomposition import PCA\n",
    "pca_HeartDisease = PCA(n_components=6)\n",
    "principalComponents_HD = pca_HeartDisease.fit_transform(Scaler)\n",
    "principalComponents_HD"
   ]
  },
  {
   "cell_type": "code",
   "execution_count": 115,
   "id": "e38051bd",
   "metadata": {},
   "outputs": [
    {
     "data": {
      "text/html": [
       "<div>\n",
       "<style scoped>\n",
       "    .dataframe tbody tr th:only-of-type {\n",
       "        vertical-align: middle;\n",
       "    }\n",
       "\n",
       "    .dataframe tbody tr th {\n",
       "        vertical-align: top;\n",
       "    }\n",
       "\n",
       "    .dataframe thead th {\n",
       "        text-align: right;\n",
       "    }\n",
       "</style>\n",
       "<table border=\"1\" class=\"dataframe\">\n",
       "  <thead>\n",
       "    <tr style=\"text-align: right;\">\n",
       "      <th></th>\n",
       "      <th>pc1</th>\n",
       "      <th>pc2</th>\n",
       "      <th>pc3</th>\n",
       "      <th>pc4</th>\n",
       "      <th>pc5</th>\n",
       "      <th>pc6</th>\n",
       "    </tr>\n",
       "  </thead>\n",
       "  <tbody>\n",
       "    <tr>\n",
       "      <th>0</th>\n",
       "      <td>2.415050</td>\n",
       "      <td>-2.330143</td>\n",
       "      <td>-0.753982</td>\n",
       "      <td>-1.311496</td>\n",
       "      <td>-1.280802</td>\n",
       "      <td>-0.571542</td>\n",
       "    </tr>\n",
       "    <tr>\n",
       "      <th>1</th>\n",
       "      <td>1.481945</td>\n",
       "      <td>1.444063</td>\n",
       "      <td>-0.737970</td>\n",
       "      <td>-0.110168</td>\n",
       "      <td>2.451798</td>\n",
       "      <td>-0.093544</td>\n",
       "    </tr>\n",
       "    <tr>\n",
       "      <th>2</th>\n",
       "      <td>1.290164</td>\n",
       "      <td>-2.049912</td>\n",
       "      <td>1.021195</td>\n",
       "      <td>0.647704</td>\n",
       "      <td>-2.052315</td>\n",
       "      <td>-1.869079</td>\n",
       "    </tr>\n",
       "    <tr>\n",
       "      <th>3</th>\n",
       "      <td>-0.852949</td>\n",
       "      <td>2.902274</td>\n",
       "      <td>-2.214495</td>\n",
       "      <td>0.174338</td>\n",
       "      <td>-0.030215</td>\n",
       "      <td>-0.308018</td>\n",
       "    </tr>\n",
       "    <tr>\n",
       "      <th>4</th>\n",
       "      <td>1.466497</td>\n",
       "      <td>-1.684707</td>\n",
       "      <td>0.222971</td>\n",
       "      <td>0.314882</td>\n",
       "      <td>1.327539</td>\n",
       "      <td>0.427401</td>\n",
       "    </tr>\n",
       "    <tr>\n",
       "      <th>...</th>\n",
       "      <td>...</td>\n",
       "      <td>...</td>\n",
       "      <td>...</td>\n",
       "      <td>...</td>\n",
       "      <td>...</td>\n",
       "      <td>...</td>\n",
       "    </tr>\n",
       "    <tr>\n",
       "      <th>913</th>\n",
       "      <td>0.245064</td>\n",
       "      <td>-0.963627</td>\n",
       "      <td>-0.337915</td>\n",
       "      <td>-0.997671</td>\n",
       "      <td>1.931369</td>\n",
       "      <td>0.234654</td>\n",
       "    </tr>\n",
       "    <tr>\n",
       "      <th>914</th>\n",
       "      <td>-1.937649</td>\n",
       "      <td>-0.024678</td>\n",
       "      <td>-0.329001</td>\n",
       "      <td>0.257709</td>\n",
       "      <td>0.926774</td>\n",
       "      <td>0.814855</td>\n",
       "    </tr>\n",
       "    <tr>\n",
       "      <th>915</th>\n",
       "      <td>-2.527217</td>\n",
       "      <td>0.065002</td>\n",
       "      <td>-1.718792</td>\n",
       "      <td>-0.116313</td>\n",
       "      <td>0.151480</td>\n",
       "      <td>-0.235147</td>\n",
       "    </tr>\n",
       "    <tr>\n",
       "      <th>916</th>\n",
       "      <td>2.301030</td>\n",
       "      <td>2.064605</td>\n",
       "      <td>1.117837</td>\n",
       "      <td>-1.164731</td>\n",
       "      <td>0.129838</td>\n",
       "      <td>-1.376848</td>\n",
       "    </tr>\n",
       "    <tr>\n",
       "      <th>917</th>\n",
       "      <td>2.522870</td>\n",
       "      <td>-1.879594</td>\n",
       "      <td>-0.286715</td>\n",
       "      <td>-0.411285</td>\n",
       "      <td>1.144404</td>\n",
       "      <td>0.416288</td>\n",
       "    </tr>\n",
       "  </tbody>\n",
       "</table>\n",
       "<p>918 rows × 6 columns</p>\n",
       "</div>"
      ],
      "text/plain": [
       "          pc1       pc2       pc3       pc4       pc5       pc6\n",
       "0    2.415050 -2.330143 -0.753982 -1.311496 -1.280802 -0.571542\n",
       "1    1.481945  1.444063 -0.737970 -0.110168  2.451798 -0.093544\n",
       "2    1.290164 -2.049912  1.021195  0.647704 -2.052315 -1.869079\n",
       "3   -0.852949  2.902274 -2.214495  0.174338 -0.030215 -0.308018\n",
       "4    1.466497 -1.684707  0.222971  0.314882  1.327539  0.427401\n",
       "..        ...       ...       ...       ...       ...       ...\n",
       "913  0.245064 -0.963627 -0.337915 -0.997671  1.931369  0.234654\n",
       "914 -1.937649 -0.024678 -0.329001  0.257709  0.926774  0.814855\n",
       "915 -2.527217  0.065002 -1.718792 -0.116313  0.151480 -0.235147\n",
       "916  2.301030  2.064605  1.117837 -1.164731  0.129838 -1.376848\n",
       "917  2.522870 -1.879594 -0.286715 -0.411285  1.144404  0.416288\n",
       "\n",
       "[918 rows x 6 columns]"
      ]
     },
     "execution_count": 115,
     "metadata": {},
     "output_type": "execute_result"
    }
   ],
   "source": [
    "HDPCADf = pd.DataFrame(data = principalComponents_HD\n",
    "             , columns = ['pc1', 'pc2', 'pc3', 'pc4', 'pc5','pc6'])\n",
    "HDPCADf"
   ]
  },
  {
   "cell_type": "markdown",
   "id": "ec86a5cc",
   "metadata": {},
   "source": [
    "Now that we have our principal components, we will like to know how much variation is explained by the first few components. We see that the first five components explained about 55% of the total variation. This may suggest to as that almost all the numeric variables are important in fitting our model."
   ]
  },
  {
   "cell_type": "code",
   "execution_count": 118,
   "id": "9da03b03",
   "metadata": {},
   "outputs": [
    {
     "name": "stdout",
     "output_type": "stream",
     "text": [
      "Explained variation per principal component: [0.21466705 0.10553521 0.08192896 0.06515692 0.06226885 0.05671356]\n"
     ]
    }
   ],
   "source": [
    "print('Explained variation per principal component: {}'.format(pca_HeartDisease.explained_variance_ratio_))\n"
   ]
  },
  {
   "cell_type": "code",
   "execution_count": null,
   "id": "71589e1f",
   "metadata": {},
   "outputs": [],
   "source": []
  },
  {
   "cell_type": "markdown",
   "id": "1f663787",
   "metadata": {},
   "source": [
    " __Clustering and homogeneity of (at least one representation) of the data__"
   ]
  },
  {
   "cell_type": "code",
   "execution_count": 122,
   "id": "16f304f9-2954-4f54-96f3-faa04ea8d042",
   "metadata": {},
   "outputs": [],
   "source": [
    "from sklearn.cluster import SpectralClustering\n",
    "from sklearn.metrics import homogeneity_score, completeness_score, rand_score "
   ]
  },
  {
   "cell_type": "code",
   "execution_count": 123,
   "id": "1797cbbf",
   "metadata": {},
   "outputs": [],
   "source": [
    "\n",
    "clstr = SpectralClustering(n_clusters = 2, \n",
    "                           affinity = 'nearest_neighbors',\n",
    "                           n_neighbors=20,\n",
    "                           assign_labels='discretize')\n",
    "preds = clstr.fit_predict( HDPCADf[['pc3']])"
   ]
  },
  {
   "cell_type": "code",
   "execution_count": 125,
   "id": "7381a01f",
   "metadata": {},
   "outputs": [
    {
     "data": {
      "text/plain": [
       "9.671124513529412e-05"
      ]
     },
     "execution_count": 125,
     "metadata": {},
     "output_type": "execute_result"
    }
   ],
   "source": [
    "\n",
    "completeness_score(y_1,preds)"
   ]
  },
  {
   "cell_type": "code",
   "execution_count": 130,
   "id": "aa56c78e",
   "metadata": {},
   "outputs": [],
   "source": [
    "from sklearn.metrics import homogeneity_score, completeness_score, rand_score  "
   ]
  },
  {
   "cell_type": "code",
   "execution_count": 136,
   "id": "42c571b0",
   "metadata": {},
   "outputs": [
    {
     "name": "stdout",
     "output_type": "stream",
     "text": [
      "homogeneity score = 0.00010\n"
     ]
    },
    {
     "data": {
      "image/png": "[encoded data removed]",
      "text/plain": [
       "<Figure size 720x288 with 2 Axes>"
      ]
     },
     "metadata": {
      "needs_background": "light"
     },
     "output_type": "display_data"
    }
   ],
   "source": [
    "\n",
    "y = HDnumericDf[\"target\"]\n",
    "\n",
    "fig,ax = plt.subplots(1,2,figsize = (10,4));\n",
    "clrs = [ ['orange','darkblue'][i] for i in preds]\n",
    "HDPCADf[['pc3','pc5']].plot.scatter('pc3','pc5', color = clrs, ax = ax[0],\n",
    "                      title = 'Clusters: Orange and Blue');\n",
    "clrs = [ ['red','green'][i] for i in y]\n",
    "HDPCADf[['pc3','pc5']].plot.scatter('pc3','pc5', color = clrs, ax = ax[1],\n",
    "                      title = 'Negative(green) versus Positive(red)');\n",
    "print('homogeneity score = %.5f' % homogeneity_score(y, preds))"
   ]
  },
  {
   "cell_type": "markdown",
   "id": "bc197617",
   "metadata": {},
   "source": [
    "Using Logistics regression , we aim to know which features are significant and by how much."
   ]
  },
  {
   "cell_type": "code",
   "execution_count": 140,
   "id": "2835653e",
   "metadata": {},
   "outputs": [
    {
     "name": "stderr",
     "output_type": "stream",
     "text": [
      "/opt/conda/envs/anaconda-2022.05-py39/lib/python3.9/site-packages/sklearn/linear_model/_logistic.py:814: ConvergenceWarning: lbfgs failed to converge (status=1):\n",
      "STOP: TOTAL NO. of ITERATIONS REACHED LIMIT.\n",
      "\n",
      "Increase the number of iterations (max_iter) or scale the data as shown in:\n",
      "    https://scikit-learn.org/stable/modules/preprocessing.html\n",
      "Please also refer to the documentation for alternative solver options:\n",
      "    https://scikit-learn.org/stable/modules/linear_model.html#logistic-regression\n",
      "  n_iter_i = _check_optimize_result(\n"
     ]
    },
    {
     "data": {
      "text/plain": [
       "array([ 9.63832616e-04,  1.34584701e-02, -1.57085898e-02, -1.11251191e-02,\n",
       "        9.83883205e-03,  2.68956062e-03, -3.81392608e-03, -1.61921570e-04,\n",
       "        1.05062773e-02, -6.79172888e-03, -4.77871720e-03, -2.22118193e-04,\n",
       "       -7.13580920e-04, -5.72706103e-04, -1.00212524e-02,  5.18720651e-02,\n",
       "       -4.96568150e-04, -7.13927910e-06, -1.74694459e-02, -2.26856601e-03,\n",
       "        4.65466369e-03, -4.36927343e-02,  2.24207958e-02])"
      ]
     },
     "execution_count": 140,
     "metadata": {},
     "output_type": "execute_result"
    }
   ],
   "source": [
    "from sklearn.linear_model import LogisticRegression\n",
    "model = LogisticRegression()\n",
    "model.fit(X, y_1)\n",
    "model.coef_[0]"
   ]
  },
  {
   "cell_type": "code",
   "execution_count": null,
   "id": "7a9bdddb",
   "metadata": {},
   "outputs": [],
   "source": []
  },
  {
   "cell_type": "markdown",
   "id": "9cff7470",
   "metadata": {},
   "source": [
    "Now we use the MinMaxScaler approach to rescale the data"
   ]
  },
  {
   "cell_type": "code",
   "execution_count": 142,
   "id": "0a1c6994",
   "metadata": {},
   "outputs": [
    {
     "ename": "NameError",
     "evalue": "name 'X_1' is not defined",
     "output_type": "error",
     "traceback": [
      "\u001b[0;31m---------------------------------------------------------------------------\u001b[0m",
      "\u001b[0;31mNameError\u001b[0m                                 Traceback (most recent call last)",
      "Cell \u001b[0;32mIn[142], line 3\u001b[0m\n\u001b[1;32m      1\u001b[0m \u001b[38;5;28;01mfrom\u001b[39;00m \u001b[38;5;21;01msklearn\u001b[39;00m\u001b[38;5;21;01m.\u001b[39;00m\u001b[38;5;21;01mpreprocessing\u001b[39;00m \u001b[38;5;28;01mimport\u001b[39;00m MinMaxScaler\n\u001b[1;32m      2\u001b[0m sclr \u001b[38;5;241m=\u001b[39m MinMaxScaler( feature_range \u001b[38;5;241m=\u001b[39m (\u001b[38;5;241m0\u001b[39m,\u001b[38;5;241m1\u001b[39m) )\n\u001b[0;32m----> 3\u001b[0m ScaledX_1Array \u001b[38;5;241m=\u001b[39m sclr\u001b[38;5;241m.\u001b[39mfit_transform(\u001b[43mX_1\u001b[49m) \n\u001b[1;32m      4\u001b[0m ScaledX_1 \u001b[38;5;241m=\u001b[39m pd\u001b[38;5;241m.\u001b[39mDataFrame(ScaledX_1Array,\n\u001b[1;32m      5\u001b[0m                               columns \u001b[38;5;241m=\u001b[39m X_1\u001b[38;5;241m.\u001b[39mcolumns,\n\u001b[1;32m      6\u001b[0m                               index \u001b[38;5;241m=\u001b[39m X_1\u001b[38;5;241m.\u001b[39mindex)\n\u001b[1;32m      7\u001b[0m ScaledX_1\u001b[38;5;241m.\u001b[39mhead()\n",
      "\u001b[0;31mNameError\u001b[0m: name 'X_1' is not defined"
     ]
    }
   ],
   "source": [
    "from sklearn.preprocessing import MinMaxScaler\n",
    "sclr = MinMaxScaler( feature_range = (0,1) )\n",
    "ScaledX_1Array = sclr.fit_transform(X_1) \n",
    "ScaledX_1 = pd.DataFrame(ScaledX_1Array,\n",
    "                              columns = X_1.columns,\n",
    "                              index = X_1.index)\n",
    "ScaledX_1.head()"
   ]
  },
  {
   "cell_type": "code",
   "execution_count": 146,
   "id": "b61bab7d",
   "metadata": {},
   "outputs": [
    {
     "data": {
      "text/plain": [
       "array([ 0.06219462,  1.11734416, -1.17887198, -0.53435613,  0.53502293,\n",
       "        0.06184274, -0.0538556 , -0.00732034,  1.18691748, -0.70547937,\n",
       "       -0.42991019, -0.05086111,  0.70396852,  0.26514188, -2.05947085,\n",
       "        1.14914607, -0.66437415,  1.70002961])"
      ]
     },
     "execution_count": 146,
     "metadata": {},
     "output_type": "execute_result"
    }
   ],
   "source": [
    "model = LogisticRegression()\n",
    "model.fit(ScaledX_1, y_1)\n",
    "model.coef_[0]"
   ]
  },
  {
   "cell_type": "code",
   "execution_count": null,
   "id": "465e12b9",
   "metadata": {},
   "outputs": [],
   "source": []
  },
  {
   "cell_type": "code",
   "execution_count": 147,
   "id": "b453d2ab",
   "metadata": {},
   "outputs": [
    {
     "name": "stdout",
     "output_type": "stream",
     "text": [
      "Feature: Down, Score: 0.06219\n",
      "Feature: Flat, Score: 1.11734\n",
      "Feature: Up, Score: -1.17887\n",
      "Feature: N, Score: -0.53436\n",
      "Feature: Y, Score: 0.53502\n",
      "Feature: LVH, Score: 0.06184\n",
      "Feature: Normal, Score: -0.05386\n",
      "Feature: ST, Score: -0.00732\n",
      "Feature: ASY, Score: 1.18692\n",
      "Feature: ATA, Score: -0.70548\n",
      "Feature: NAP, Score: -0.42991\n",
      "Feature: TA, Score: -0.05086\n",
      "Feature: Age, Score: 0.70397\n",
      "Feature: restbp, Score: 0.26514\n",
      "Feature: chol, Score: -2.05947\n",
      "Feature: fbs, Score: 1.14915\n",
      "Feature: maxhr, Score: -0.66437\n",
      "Feature: oldpeak, Score: 1.70003\n"
     ]
    },
    {
     "data": {
      "image/png": "[encoded data removed]",
      "text/plain": [
       "<Figure size 720x216 with 1 Axes>"
      ]
     },
     "metadata": {
      "needs_background": "light"
     },
     "output_type": "display_data"
    }
   ],
   "source": [
    "importance = model.coef_[0]\n",
    "# summarize feature importance\n",
    "for i,v in enumerate(importance):\n",
    "    print('Feature: %s, Score: %.5f' % (X_1.columns[i],v))\n",
    "# plot feature importance\n",
    "plt.figure(figsize=(10,3))\n",
    "plt.bar(X_1.columns, importance);"
   ]
  },
  {
   "cell_type": "code",
   "execution_count": 139,
   "id": "dff4ddf0",
   "metadata": {},
   "outputs": [
    {
     "name": "stdout",
     "output_type": "stream",
     "text": [
      "X_1: Down, Score: -0.10822\n",
      "X_1: Flat, Score: 1.17104\n",
      "X_1: Up, Score: -1.06283\n",
      "X_1: N, Score: -0.49924\n",
      "X_1: Y, Score: 0.49922\n",
      "X_1: LVH, Score: 0.10097\n",
      "X_1: Normal, Score: -0.04540\n",
      "X_1: ST, Score: -0.05559\n",
      "X_1: ASY, Score: 1.18843\n",
      "X_1: ATA, Score: -0.64996\n",
      "X_1: NAP, Score: -0.44188\n",
      "X_1: TA, Score: -0.09661\n",
      "X_1: Age, Score: 0.12433\n",
      "X_1: restbp, Score: 0.05699\n",
      "X_1: chol, Score: -0.50966\n",
      "X_1: fbs, Score: 0.49582\n",
      "X_1: maxhr, Score: -0.15781\n",
      "X_1: oldpeak, Score: 0.40582\n"
     ]
    },
    {
     "data": {
      "image/png": "[encoded data removed]",
      "text/plain": [
       "<Figure size 720x216 with 1 Axes>"
      ]
     },
     "metadata": {
      "needs_background": "light"
     },
     "output_type": "display_data"
    }
   ],
   "source": [
    "importance = model.coef_[0]\n",
    "# summarize feature importance\n",
    "for i,v in enumerate(importance):\n",
    "    print('Feature: %s, Score: %.5f' % (X_1.columns[i],v))\n",
    "# plot feature importance\n",
    "plt.figure(figsize=(10,3))\n",
    "plt.bar(X_1.columns, importance);\n",
    "\n",
    "\n",
    "\n",
    "# summary of  feature importance\n",
    "importance = model.coef_[0]\n",
    "\n",
    "for i,v in enumerate(importance):\n",
    "    print('X_1: %s, Score: %.5f' % (X_1.columns[i],v))\n",
    "# plot feature importance\n",
    "plt.figure(figsize=(10,3))\n",
    "plt.bar(X_1.columns, importance);"
   ]
  },
  {
   "cell_type": "markdown",
   "id": "444cfef0",
   "metadata": {},
   "source": [
    "Now that it is clear which features are insignificant, we go ahead and take them out of the model"
   ]
  },
  {
   "cell_type": "code",
   "execution_count": 55,
   "id": "dd2aa237",
   "metadata": {},
   "outputs": [
    {
     "data": {
      "text/html": [
       "<div>\n",
       "<style scoped>\n",
       "    .dataframe tbody tr th:only-of-type {\n",
       "        vertical-align: middle;\n",
       "    }\n",
       "\n",
       "    .dataframe tbody tr th {\n",
       "        vertical-align: top;\n",
       "    }\n",
       "\n",
       "    .dataframe thead th {\n",
       "        text-align: right;\n",
       "    }\n",
       "</style>\n",
       "<table border=\"1\" class=\"dataframe\">\n",
       "  <thead>\n",
       "    <tr style=\"text-align: right;\">\n",
       "      <th></th>\n",
       "      <th>Flat</th>\n",
       "      <th>Up</th>\n",
       "      <th>N</th>\n",
       "      <th>Y</th>\n",
       "      <th>ASY</th>\n",
       "      <th>ATA</th>\n",
       "      <th>NAP</th>\n",
       "      <th>Age</th>\n",
       "      <th>chol</th>\n",
       "      <th>fbs</th>\n",
       "      <th>maxhr</th>\n",
       "      <th>oldpeak</th>\n",
       "    </tr>\n",
       "  </thead>\n",
       "  <tbody>\n",
       "    <tr>\n",
       "      <th>0</th>\n",
       "      <td>0</td>\n",
       "      <td>1</td>\n",
       "      <td>1</td>\n",
       "      <td>0</td>\n",
       "      <td>0</td>\n",
       "      <td>1</td>\n",
       "      <td>0</td>\n",
       "      <td>-1.433140</td>\n",
       "      <td>0.825070</td>\n",
       "      <td>-0.551341</td>\n",
       "      <td>1.382928</td>\n",
       "      <td>-0.832432</td>\n",
       "    </tr>\n",
       "    <tr>\n",
       "      <th>1</th>\n",
       "      <td>1</td>\n",
       "      <td>0</td>\n",
       "      <td>1</td>\n",
       "      <td>0</td>\n",
       "      <td>0</td>\n",
       "      <td>0</td>\n",
       "      <td>1</td>\n",
       "      <td>-0.478484</td>\n",
       "      <td>-0.171961</td>\n",
       "      <td>-0.551341</td>\n",
       "      <td>0.754157</td>\n",
       "      <td>0.105664</td>\n",
       "    </tr>\n",
       "    <tr>\n",
       "      <th>2</th>\n",
       "      <td>0</td>\n",
       "      <td>1</td>\n",
       "      <td>1</td>\n",
       "      <td>0</td>\n",
       "      <td>0</td>\n",
       "      <td>1</td>\n",
       "      <td>0</td>\n",
       "      <td>-1.751359</td>\n",
       "      <td>0.770188</td>\n",
       "      <td>-0.551341</td>\n",
       "      <td>-1.525138</td>\n",
       "      <td>-0.832432</td>\n",
       "    </tr>\n",
       "    <tr>\n",
       "      <th>3</th>\n",
       "      <td>1</td>\n",
       "      <td>0</td>\n",
       "      <td>0</td>\n",
       "      <td>1</td>\n",
       "      <td>1</td>\n",
       "      <td>0</td>\n",
       "      <td>0</td>\n",
       "      <td>-0.584556</td>\n",
       "      <td>0.139040</td>\n",
       "      <td>-0.551341</td>\n",
       "      <td>-1.132156</td>\n",
       "      <td>0.574711</td>\n",
       "    </tr>\n",
       "    <tr>\n",
       "      <th>4</th>\n",
       "      <td>0</td>\n",
       "      <td>1</td>\n",
       "      <td>1</td>\n",
       "      <td>0</td>\n",
       "      <td>0</td>\n",
       "      <td>0</td>\n",
       "      <td>1</td>\n",
       "      <td>0.051881</td>\n",
       "      <td>-0.034755</td>\n",
       "      <td>-0.551341</td>\n",
       "      <td>-0.581981</td>\n",
       "      <td>-0.832432</td>\n",
       "    </tr>\n",
       "  </tbody>\n",
       "</table>\n",
       "</div>"
      ],
      "text/plain": [
       "   Flat  Up  N  Y  ASY  ATA  NAP       Age      chol       fbs     maxhr  \\\n",
       "0     0   1  1  0    0    1    0 -1.433140  0.825070 -0.551341  1.382928   \n",
       "1     1   0  1  0    0    0    1 -0.478484 -0.171961 -0.551341  0.754157   \n",
       "2     0   1  1  0    0    1    0 -1.751359  0.770188 -0.551341 -1.525138   \n",
       "3     1   0  0  1    1    0    0 -0.584556  0.139040 -0.551341 -1.132156   \n",
       "4     0   1  1  0    0    0    1  0.051881 -0.034755 -0.551341 -0.581981   \n",
       "\n",
       "    oldpeak  \n",
       "0 -0.832432  \n",
       "1  0.105664  \n",
       "2 -0.832432  \n",
       "3  0.574711  \n",
       "4 -0.832432  "
      ]
     },
     "execution_count": 55,
     "metadata": {},
     "output_type": "execute_result"
    }
   ],
   "source": [
    "InsignificantColumns = ['Down','LVH','Normal','ST', 'TA','restbp']\n",
    "ReducedFeaturesHD = X_1.drop(InsignificantColumns, axis = 1)\n",
    "ReducedFeaturesHD.head()"
   ]
  },
  {
   "cell_type": "code",
   "execution_count": null,
   "id": "73982525",
   "metadata": {},
   "outputs": [],
   "source": []
  },
  {
   "cell_type": "code",
   "execution_count": 122,
   "id": "e391f31a",
   "metadata": {},
   "outputs": [
    {
     "data": {
      "text/plain": [
       "array([ 1.25253355, -0.98188574, -0.50262817,  0.5025538 ,  1.23680148,\n",
       "       -0.60488047, -0.39574031,  0.15213713, -0.4884079 ,  0.49642355,\n",
       "       -0.14583547,  0.40683439])"
      ]
     },
     "execution_count": 122,
     "metadata": {},
     "output_type": "execute_result"
    }
   ],
   "source": [
    "model = LogisticRegression()\n",
    "model.fit(ReducedFeaturesHD, y_1)\n",
    "model.coef_[0]"
   ]
  },
  {
   "cell_type": "code",
   "execution_count": null,
   "id": "817dfa66",
   "metadata": {},
   "outputs": [],
   "source": []
  },
  {
   "cell_type": "code",
   "execution_count": 123,
   "id": "e9dd4310",
   "metadata": {},
   "outputs": [
    {
     "name": "stdout",
     "output_type": "stream",
     "text": [
      "Feature: Flat, Score: 1.25253\n",
      "Feature: Up, Score: -0.98189\n",
      "Feature: N, Score: -0.50263\n",
      "Feature: Y, Score: 0.50255\n",
      "Feature: ASY, Score: 1.23680\n",
      "Feature: ATA, Score: -0.60488\n",
      "Feature: NAP, Score: -0.39574\n",
      "Feature: Age, Score: 0.15214\n",
      "Feature: chol, Score: -0.48841\n",
      "Feature: fbs, Score: 0.49642\n",
      "Feature: maxhr, Score: -0.14584\n",
      "Feature: oldpeak, Score: 0.40683\n"
     ]
    }
   ],
   "source": [
    "# summary of feature importance\n",
    "\n",
    "importance = model.coef_[0]\n",
    "for i,v in enumerate(importance):\n",
    "    print('Feature: %s, Score: %.5f' % (ReducedFeaturesHD.columns[i],v))\n",
    "    \n"
   ]
  },
  {
   "cell_type": "code",
   "execution_count": null,
   "id": "e3c70c61",
   "metadata": {},
   "outputs": [],
   "source": []
  },
  {
   "cell_type": "code",
   "execution_count": 60,
   "id": "81d97e1f",
   "metadata": {},
   "outputs": [
    {
     "data": {
      "image/png": "[encoded data removed]",
      "text/plain": [
       "<Figure size 648x216 with 1 Axes>"
      ]
     },
     "metadata": {
      "needs_background": "light"
     },
     "output_type": "display_data"
    }
   ],
   "source": [
    "# plot feature importance\n",
    "plt.figure(figsize=(9,3))\n",
    "plt.bar(ReducedFeaturesHD.columns, importance);\n"
   ]
  },
  {
   "cell_type": "markdown",
   "id": "f586911b",
   "metadata": {},
   "source": [
    "Next, we want to see whether we can use our representation to produce a good nearest neighbor classifier"
   ]
  },
  {
   "cell_type": "code",
   "execution_count": 62,
   "id": "b06cea7b",
   "metadata": {},
   "outputs": [],
   "source": [
    "from sklearn.model_selection import train_test_split \n",
    "ReducedFeaturesHDtrain, ReducedFeaturesHDtest, y_1train, y_1test = train_test_split(ReducedFeaturesHD,y_1, test_size = 0.2 )"
   ]
  },
  {
   "cell_type": "code",
   "execution_count": 125,
   "id": "0239ee2f",
   "metadata": {},
   "outputs": [
    {
     "data": {
      "text/plain": [
       "0.8478260869565217"
      ]
     },
     "execution_count": 125,
     "metadata": {},
     "output_type": "execute_result"
    }
   ],
   "source": [
    "from sklearn.neighbors import KNeighborsClassifier\n",
    "kNNclf = KNeighborsClassifier(n_neighbors = 21) \n",
    "kNNclf.fit(ReducedFeaturesHDtrain, y_1train)\n",
    "y_1pred = kNNclf.predict(ReducedFeaturesHDtest)\n",
    "y_1prob = model.predict_proba(ReducedFeaturesHDtest)[:,1]\n",
    "kNNclf.score(ReducedFeaturesHDtest, y_1test)"
   ]
  },
  {
   "cell_type": "code",
   "execution_count": null,
   "id": "05c9a465",
   "metadata": {},
   "outputs": [],
   "source": []
  },
  {
   "cell_type": "code",
   "execution_count": 126,
   "id": "5d7002c5",
   "metadata": {},
   "outputs": [
    {
     "data": {
      "text/plain": [
       "array([0.81521739, 0.88043478, 0.84782609, 0.83606557, 0.76502732])"
      ]
     },
     "execution_count": 126,
     "metadata": {},
     "output_type": "execute_result"
    }
   ],
   "source": [
    "from sklearn.model_selection import cross_val_score\n",
    "scores = cross_val_score(kNNclf, ReducedFeaturesHD, y_1, cv=5)\n",
    "scores"
   ]
  },
  {
   "cell_type": "code",
   "execution_count": null,
   "id": "d2c26537",
   "metadata": {},
   "outputs": [],
   "source": []
  },
  {
   "cell_type": "code",
   "execution_count": 66,
   "id": "de61ba24",
   "metadata": {},
   "outputs": [
    {
     "data": {
      "text/plain": [
       "0.8289142314088858"
      ]
     },
     "execution_count": 66,
     "metadata": {},
     "output_type": "execute_result"
    }
   ],
   "source": [
    "scores.mean()  # Must improve to over 80% average accuracy"
   ]
  },
  {
   "cell_type": "markdown",
   "id": "fdaf160e",
   "metadata": {},
   "source": [
    "Now we have an accuracy score of 83% which is above the minimum score of 80%"
   ]
  },
  {
   "cell_type": "code",
   "execution_count": null,
   "id": "259f9207",
   "metadata": {},
   "outputs": [],
   "source": []
  },
  {
   "cell_type": "code",
   "execution_count": 67,
   "id": "e90a077c",
   "metadata": {},
   "outputs": [
    {
     "data": {
      "text/html": [
       "<div>\n",
       "<style scoped>\n",
       "    .dataframe tbody tr th:only-of-type {\n",
       "        vertical-align: middle;\n",
       "    }\n",
       "\n",
       "    .dataframe tbody tr th {\n",
       "        vertical-align: top;\n",
       "    }\n",
       "\n",
       "    .dataframe thead th {\n",
       "        text-align: right;\n",
       "    }\n",
       "</style>\n",
       "<table border=\"1\" class=\"dataframe\">\n",
       "  <thead>\n",
       "    <tr style=\"text-align: right;\">\n",
       "      <th></th>\n",
       "      <th>actual</th>\n",
       "      <th>predicted</th>\n",
       "      <th>prob</th>\n",
       "    </tr>\n",
       "  </thead>\n",
       "  <tbody>\n",
       "    <tr>\n",
       "      <th>0</th>\n",
       "      <td>1</td>\n",
       "      <td>0</td>\n",
       "      <td>0.124328</td>\n",
       "    </tr>\n",
       "    <tr>\n",
       "      <th>1</th>\n",
       "      <td>1</td>\n",
       "      <td>1</td>\n",
       "      <td>0.783715</td>\n",
       "    </tr>\n",
       "    <tr>\n",
       "      <th>2</th>\n",
       "      <td>1</td>\n",
       "      <td>1</td>\n",
       "      <td>0.913412</td>\n",
       "    </tr>\n",
       "    <tr>\n",
       "      <th>3</th>\n",
       "      <td>0</td>\n",
       "      <td>0</td>\n",
       "      <td>0.468257</td>\n",
       "    </tr>\n",
       "    <tr>\n",
       "      <th>4</th>\n",
       "      <td>0</td>\n",
       "      <td>0</td>\n",
       "      <td>0.040169</td>\n",
       "    </tr>\n",
       "  </tbody>\n",
       "</table>\n",
       "</div>"
      ],
      "text/plain": [
       "   actual  predicted      prob\n",
       "0       1          0  0.124328\n",
       "1       1          1  0.783715\n",
       "2       1          1  0.913412\n",
       "3       0          0  0.468257\n",
       "4       0          0  0.040169"
      ]
     },
     "execution_count": 67,
     "metadata": {},
     "output_type": "execute_result"
    }
   ],
   "source": [
    "actpredDf = pd.DataFrame( {'actual':y_1test.values, 'predicted':y_1pred, 'prob':y_1prob} )\n",
    "actpredDf.head()"
   ]
  },
  {
   "cell_type": "code",
   "execution_count": null,
   "id": "2c134237",
   "metadata": {},
   "outputs": [],
   "source": []
  },
  {
   "cell_type": "code",
   "execution_count": 68,
   "id": "2c44c130",
   "metadata": {},
   "outputs": [
    {
     "data": {
      "text/html": [
       "<div>\n",
       "<style scoped>\n",
       "    .dataframe tbody tr th:only-of-type {\n",
       "        vertical-align: middle;\n",
       "    }\n",
       "\n",
       "    .dataframe tbody tr th {\n",
       "        vertical-align: top;\n",
       "    }\n",
       "\n",
       "    .dataframe thead th {\n",
       "        text-align: right;\n",
       "    }\n",
       "</style>\n",
       "<table border=\"1\" class=\"dataframe\">\n",
       "  <thead>\n",
       "    <tr style=\"text-align: right;\">\n",
       "      <th>Predicted</th>\n",
       "      <th>0</th>\n",
       "      <th>1</th>\n",
       "      <th>All</th>\n",
       "    </tr>\n",
       "    <tr>\n",
       "      <th>Actual</th>\n",
       "      <th></th>\n",
       "      <th></th>\n",
       "      <th></th>\n",
       "    </tr>\n",
       "  </thead>\n",
       "  <tbody>\n",
       "    <tr>\n",
       "      <th>0</th>\n",
       "      <td>69</td>\n",
       "      <td>17</td>\n",
       "      <td>86</td>\n",
       "    </tr>\n",
       "    <tr>\n",
       "      <th>1</th>\n",
       "      <td>11</td>\n",
       "      <td>87</td>\n",
       "      <td>98</td>\n",
       "    </tr>\n",
       "    <tr>\n",
       "      <th>All</th>\n",
       "      <td>80</td>\n",
       "      <td>104</td>\n",
       "      <td>184</td>\n",
       "    </tr>\n",
       "  </tbody>\n",
       "</table>\n",
       "</div>"
      ],
      "text/plain": [
       "Predicted   0    1  All\n",
       "Actual                 \n",
       "0          69   17   86\n",
       "1          11   87   98\n",
       "All        80  104  184"
      ]
     },
     "execution_count": 68,
     "metadata": {},
     "output_type": "execute_result"
    }
   ],
   "source": [
    "confusion_matrix = pd.crosstab(actpredDf['actual'], actpredDf['predicted'], \n",
    "                               rownames=['Actual'], colnames=['Predicted'], margins = True)\n",
    "confusion_matrix"
   ]
  },
  {
   "cell_type": "code",
   "execution_count": null,
   "id": "3153aa38",
   "metadata": {},
   "outputs": [],
   "source": []
  },
  {
   "cell_type": "code",
   "execution_count": 69,
   "id": "754dfa88",
   "metadata": {},
   "outputs": [
    {
     "data": {
      "image/png": "[encoded data removed]",
      "text/plain": [
       "<Figure size 432x288 with 2 Axes>"
      ]
     },
     "metadata": {
      "needs_background": "light"
     },
     "output_type": "display_data"
    }
   ],
   "source": [
    "import seaborn as sn\n",
    "sn.heatmap(confusion_matrix, annot=True);"
   ]
  },
  {
   "cell_type": "code",
   "execution_count": null,
   "id": "70cde668",
   "metadata": {},
   "outputs": [],
   "source": []
  },
  {
   "cell_type": "markdown",
   "id": "a820cc01",
   "metadata": {},
   "source": [
    "__ROC-AUC from estimator__\n",
    "\n",
    "ROC curve is a graph that shows the performance of a classification model at all possible thresholds"
   ]
  },
  {
   "cell_type": "code",
   "execution_count": 72,
   "id": "4af2cbe3",
   "metadata": {},
   "outputs": [],
   "source": [
    "from sklearn.metrics import roc_curve, auc, RocCurveDisplay"
   ]
  },
  {
   "cell_type": "code",
   "execution_count": 73,
   "id": "193efe60",
   "metadata": {},
   "outputs": [
    {
     "data": {
      "text/plain": [
       "array([0.        , 0.19767442, 1.        ])"
      ]
     },
     "execution_count": 73,
     "metadata": {},
     "output_type": "execute_result"
    }
   ],
   "source": [
    "fpr, tpr, lvls = roc_curve(actpredDf.actual, actpredDf.predicted)\n",
    "fpr"
   ]
  },
  {
   "cell_type": "code",
   "execution_count": null,
   "id": "d116132b",
   "metadata": {},
   "outputs": [],
   "source": []
  },
  {
   "cell_type": "code",
   "execution_count": 74,
   "id": "77b02987",
   "metadata": {},
   "outputs": [
    {
     "data": {
      "text/plain": [
       "array([0.        , 0.        , 0.        , 0.01162791, 0.01162791,\n",
       "       0.02325581, 0.02325581, 0.04651163, 0.04651163, 0.05813953,\n",
       "       0.05813953, 0.06976744, 0.06976744, 0.08139535, 0.08139535,\n",
       "       0.10465116, 0.10465116, 0.11627907, 0.11627907, 0.12790698,\n",
       "       0.12790698, 0.1627907 , 0.1627907 , 0.20930233, 0.20930233,\n",
       "       0.26744186, 0.26744186, 0.3372093 , 0.3372093 , 0.37209302,\n",
       "       0.37209302, 0.44186047, 0.44186047, 0.46511628, 0.46511628,\n",
       "       0.52325581, 0.52325581, 0.74418605, 0.74418605, 1.        ])"
      ]
     },
     "execution_count": 74,
     "metadata": {},
     "output_type": "execute_result"
    }
   ],
   "source": [
    "fpr, tpr, lvls = roc_curve(actpredDf.actual, actpredDf.prob)\n",
    "fpr"
   ]
  },
  {
   "cell_type": "code",
   "execution_count": null,
   "id": "4f67c65c",
   "metadata": {},
   "outputs": [],
   "source": []
  },
  {
   "cell_type": "code",
   "execution_count": 75,
   "id": "bba1c956",
   "metadata": {},
   "outputs": [
    {
     "data": {
      "text/plain": [
       "0.915875652586616"
      ]
     },
     "execution_count": 75,
     "metadata": {},
     "output_type": "execute_result"
    }
   ],
   "source": [
    "auc(fpr,tpr)"
   ]
  },
  {
   "cell_type": "code",
   "execution_count": null,
   "id": "42d68915",
   "metadata": {},
   "outputs": [],
   "source": [
    "Features = df.drop('target', axis=1)\n",
    "Response = df.target\n",
    "\n",
    "Features.head()"
   ]
  },
  {
   "cell_type": "markdown",
   "id": "ea4362c4",
   "metadata": {},
   "source": []
  },
  {
   "cell_type": "code",
   "execution_count": null,
   "id": "5e113c4e",
   "metadata": {
    "scrolled": true
   },
   "outputs": [],
   "source": [
    "scores.mean() "
   ]
  },
  {
   "cell_type": "markdown",
   "id": "f8ee0835",
   "metadata": {},
   "source": [
    "__ROC-AUC from estimator__"
   ]
  },
  {
   "cell_type": "markdown",
   "id": "e07eea22",
   "metadata": {},
   "source": [
    "Now we plot a ROC-AUC curve to check the performance the model at all possible thresholds."
   ]
  },
  {
   "cell_type": "code",
   "execution_count": 83,
   "id": "535d2f4c",
   "metadata": {},
   "outputs": [],
   "source": [
    "from sklearn.metrics import roc_curve, auc, RocCurveDisplay"
   ]
  },
  {
   "cell_type": "code",
   "execution_count": 82,
   "id": "3a737b81",
   "metadata": {
    "scrolled": true
   },
   "outputs": [
    {
     "data": {
      "text/plain": [
       "array([0.        , 0.19767442, 1.        ])"
      ]
     },
     "execution_count": 82,
     "metadata": {},
     "output_type": "execute_result"
    }
   ],
   "source": [
    "fpr, tpr, lvls = roc_curve(actpredDf.actual, actpredDf.predicted)\n",
    "fpr"
   ]
  },
  {
   "cell_type": "code",
   "execution_count": 81,
   "id": "3b9a82ec",
   "metadata": {},
   "outputs": [
    {
     "data": {
      "text/plain": [
       "array([0.        , 0.        , 0.        , 0.01162791, 0.01162791,\n",
       "       0.02325581, 0.02325581, 0.04651163, 0.04651163, 0.05813953,\n",
       "       0.05813953, 0.06976744, 0.06976744, 0.08139535, 0.08139535,\n",
       "       0.10465116, 0.10465116, 0.11627907, 0.11627907, 0.12790698,\n",
       "       0.12790698, 0.1627907 , 0.1627907 , 0.20930233, 0.20930233,\n",
       "       0.26744186, 0.26744186, 0.3372093 , 0.3372093 , 0.37209302,\n",
       "       0.37209302, 0.44186047, 0.44186047, 0.46511628, 0.46511628,\n",
       "       0.52325581, 0.52325581, 0.74418605, 0.74418605, 1.        ])"
      ]
     },
     "execution_count": 81,
     "metadata": {},
     "output_type": "execute_result"
    }
   ],
   "source": [
    "fpr, tpr, lvls = roc_curve(actpredDf.actual, actpredDf.prob)\n",
    "fpr"
   ]
  },
  {
   "cell_type": "code",
   "execution_count": 80,
   "id": "53878936",
   "metadata": {},
   "outputs": [
    {
     "data": {
      "text/plain": [
       "0.915875652586616"
      ]
     },
     "execution_count": 80,
     "metadata": {},
     "output_type": "execute_result"
    }
   ],
   "source": [
    "auc(fpr,tpr)"
   ]
  },
  {
   "cell_type": "markdown",
   "id": "80716d1c",
   "metadata": {},
   "source": [
    "The AUC value for the ReducedFeatures was found to be 0.92 which is close to 1. which indicates that it has the highest area under the curve and it indicates that the model with ReducedFeatures is best at correctly classifying the features into categories as compared to that of the actual features (0.85)"
   ]
  },
  {
   "cell_type": "code",
   "execution_count": 79,
   "id": "4fef2858",
   "metadata": {},
   "outputs": [
    {
     "data": {
      "image/png": "[encoded data removed]",
      "text/plain": [
       "<Figure size 432x288 with 1 Axes>"
      ]
     },
     "metadata": {
      "needs_background": "light"
     },
     "output_type": "display_data"
    }
   ],
   "source": [
    "RocCurveDisplay.from_estimator(model, ReducedFeaturesHDtest,y_1test)\n",
    "plt.plot(np.arange(0,11)/10, np.arange(0,11)/10, 'g--');"
   ]
  },
  {
   "cell_type": "code",
   "execution_count": 78,
   "id": "f92bd4bc",
   "metadata": {},
   "outputs": [
    {
     "data": {
      "image/png": "[encoded data removed]",
      "text/plain": [
       "<Figure size 432x288 with 1 Axes>"
      ]
     },
     "metadata": {
      "needs_background": "light"
     },
     "output_type": "display_data"
    }
   ],
   "source": [
    "RocCurveDisplay.from_predictions(actpredDf.actual, actpredDf.predicted)\n",
    "plt.plot(np.arange(0,11)/10, np.arange(0,11)/10, 'g--');"
   ]
  },
  {
   "cell_type": "code",
   "execution_count": null,
   "id": "f6e63f98",
   "metadata": {},
   "outputs": [],
   "source": []
  }
 ],
 "metadata": {
  "kernelspec": {
   "display_name": "anaconda-2022.05-py39",
   "language": "python",
   "name": "conda-env-anaconda-2022.05-py39-py"
  },
  "language_info": {
   "codemirror_mode": {
    "name": "ipython",
    "version": 3
   },
   "file_extension": ".py",
   "mimetype": "text/x-python",
   "name": "python",
   "nbconvert_exporter": "python",
   "pygments_lexer": "ipython3",
   "version": "3.9.12"
  }
 },
 "nbformat": 4,
 "nbformat_minor": 5
}
